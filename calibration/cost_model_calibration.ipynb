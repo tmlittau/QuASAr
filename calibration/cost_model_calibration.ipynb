{
 "cells": [
  {
   "cell_type": "markdown",
   "id": "aced6e61",
   "metadata": {},
   "source": [
    "# Cost model calibration sweep\n",
    "\n",
    "This notebook reproduces the automated sweeps exercised in the unit tests. It fits the adaptive coefficients from the synthetic HPC-inspired profiles and compares backend selections across different sparsity, depth, and entanglement regimes."
   ]
  },
  {
   "cell_type": "code",
   "execution_count": null,
   "id": "a4ad4886",
   "metadata": {},
   "outputs": [],
   "source": [
    "from calibration.cost_model_sweeps import (\n",
    "    DECISION_DIAGRAM_PROFILES,\n",
    "    MPS_PROFILES,\n",
    "    STATEVECTOR_PROFILES,\n",
    "    fit_all_coefficients,\n",
    ")\n",
    "from docs.utils.partitioning_analysis import FragmentStats, evaluate_fragment_backends\n",
    "from quasar.cost import Backend, CostEstimator\n",
    "coeff = fit_all_coefficients()\n",
    "coeff"
   ]
  },
  {
   "cell_type": "code",
   "execution_count": null,
   "id": "6c3032be",
   "metadata": {},
   "outputs": [],
   "source": [
    "est = CostEstimator()\n",
    "est.update_coefficients(coeff)\n",
    "stats = FragmentStats(num_qubits=12, num_1q_gates=14, num_2q_gates=6, num_measurements=2)\n",
    "dense = evaluate_fragment_backends(\n",
    "    stats, sparsity=0.2, phase_rotation_diversity=6, amplitude_rotation_diversity=6, estimator=est\n",
    ")\n",
    "sparse = evaluate_fragment_backends(\n",
    "    stats, sparsity=0.92, phase_rotation_diversity=2, amplitude_rotation_diversity=1, estimator=est\n",
    ")\n",
    "dense[0], sparse[0]"
   ]
  },
  {
   "cell_type": "code",
   "execution_count": null,
   "id": "1cbc0fdb",
   "metadata": {},
   "outputs": [],
   "source": [
    "low_ent = FragmentStats(num_qubits=8, num_1q_gates=18, num_2q_gates=4, is_local=True)\n",
    "high_ent = FragmentStats(num_qubits=8, num_1q_gates=18, num_2q_gates=18, is_local=True)\n",
    "low_sel = evaluate_fragment_backends(\n",
    "    low_ent, sparsity=0.65, phase_rotation_diversity=3, amplitude_rotation_diversity=2, estimator=est\n",
    ")\n",
    "high_sel = evaluate_fragment_backends(\n",
    "    high_ent, sparsity=0.35, phase_rotation_diversity=9, amplitude_rotation_diversity=8, estimator=est\n",
    ")\n",
    "low_sel[0], high_sel[0]"
   ]
  }
 ],
 "metadata": {},
 "nbformat": 4,
 "nbformat_minor": 5
}
