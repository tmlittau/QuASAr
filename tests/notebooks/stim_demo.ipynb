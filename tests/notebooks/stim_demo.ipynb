{
 "cells": [
  {
   "cell_type": "markdown",
   "id": "dbb364c6",
   "metadata": {},
   "source": [
    "# Stim Usage Examples\n",
    "\n",
    "This notebook explores the Stim simulator for stabilizer circuits."
   ]
  },
  {
   "cell_type": "markdown",
   "id": "b534cbdf",
   "metadata": {},
   "source": [
    "## Bell State Sampling"
   ]
  },
  {
   "cell_type": "code",
   "execution_count": null,
   "id": "1a5b1051",
   "metadata": {},
   "outputs": [],
   "source": [
    "import stim\n",
    "circuit = stim.Circuit()\n",
    "circuit.h(0)\n",
    "circuit.cx(0,1)\n",
    "circuit.measure(0)\n",
    "circuit.measure(1)\n",
    "sampler = circuit.compile_sampler()\n",
    "samples = sampler.sample(10)\n",
    "samples"
   ]
  },
  {
   "cell_type": "markdown",
   "id": "20473239",
   "metadata": {},
   "source": [
    "## Tableau Representation"
   ]
  },
  {
   "cell_type": "code",
   "execution_count": null,
   "id": "281bedf8",
   "metadata": {},
   "outputs": [],
   "source": [
    "bell = stim.Circuit(\"H 0\n",
    "CX 0 1\")\n",
    "tableau = bell.compile_tableau()\n",
    "print(tableau)"
   ]
  },
  {
   "cell_type": "markdown",
   "id": "cee236e2",
   "metadata": {},
   "source": [
    "## Detector Error Model"
   ]
  },
  {
   "cell_type": "code",
   "execution_count": null,
   "id": "ba905d48",
   "metadata": {},
   "outputs": [],
   "source": [
    "dem = bell.detector_error_model()\n",
    "print(dem)"
   ]
  }
 ],
 "metadata": {},
 "nbformat": 4,
 "nbformat_minor": 5
}
