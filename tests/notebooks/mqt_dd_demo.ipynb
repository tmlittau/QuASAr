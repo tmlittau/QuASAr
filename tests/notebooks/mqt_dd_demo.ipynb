{
 "cells": [
  {
   "cell_type": "markdown",
   "id": "6c7a0eed",
   "metadata": {},
   "source": [
    "# MQT DD Package Usage Examples\n",
    "\n",
    "This notebook demonstrates how to use the MQT decision diagram simulator directly, matching QuASAr's backend usage."
   ]
  },
  {
   "cell_type": "markdown",
   "id": "3195dc8e",
   "metadata": {},
   "source": [
    "## Bell State with MQT's DD Package"
   ]
  },
  {
   "cell_type": "code",
   "execution_count": null,
   "id": "a9539f52",
   "metadata": {},
   "outputs": [],
   "source": [
    "import numpy as np\n",
    "from mqt.core import dd\n",
    "from mqt.core.ir import operations\n",
    "\n",
    "pkg = dd.DDPackage(2)\n",
    "state = pkg.zero_state(2)\n",
    "pkg.inc_ref_vec(state)\n",
    "h = operations.StandardOperation([0], operations.OpType.h)\n",
    "state = pkg.apply_unitary_operation(state, h)\n",
    "pkg.inc_ref_vec(state)\n",
    "cx = operations.StandardOperation({operations.Control(0)}, 1, operations.OpType.x)\n",
    "state = pkg.apply_unitary_operation(state, cx)\n",
    "pkg.inc_ref_vec(state)\n",
    "amplitudes = [state[i] for i in range(4)]\n",
    "expected = (1/np.sqrt(2))*np.array([1,0,0,1])\n",
    "np.allclose(amplitudes, expected)\n"
   ]
  },
  {
   "cell_type": "markdown",
   "id": "28b2145b",
   "metadata": {},
   "source": [
    "## Amplitude Dictionary"
   ]
  },
  {
   "cell_type": "code",
   "execution_count": null,
   "id": "e2d2afec",
   "metadata": {},
   "outputs": [],
   "source": [
    "amplitudes = {format(i, '02b'): state[i] for i in range(4)}\n",
    "amplitudes\n"
   ]
  },
  {
   "cell_type": "markdown",
   "id": "9c1a376b",
   "metadata": {},
   "source": [
    "## Sampling Measurements"
   ]
  },
  {
   "cell_type": "code",
   "execution_count": null,
   "id": "2d72c58f",
   "metadata": {},
   "outputs": [],
   "source": [
    "from collections import Counter\n",
    "counts = Counter(pkg.measure_all(state) for _ in range(1000))\n",
    "counts\n"
   ]
  }
 ],
 "metadata": {},
 "nbformat": 4,
 "nbformat_minor": 5
}