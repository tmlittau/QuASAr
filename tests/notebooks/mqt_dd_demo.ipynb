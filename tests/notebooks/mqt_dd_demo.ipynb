{
 "cells": [
  {
   "cell_type": "markdown",
   "id": "6c7a0eed",
   "metadata": {},
   "source": [
    "# MQT DDSIM Usage Examples\n",
    "\n",
    "This notebook demonstrates how to use the MQT DDSIM simulator directly."
   ]
  },
  {
   "cell_type": "markdown",
   "id": "3195dc8e",
   "metadata": {},
   "source": [
    "## Bell State with DDSIM"
   ]
  },
  {
   "cell_type": "code",
   "execution_count": null,
   "id": "a9539f52",
   "metadata": {},
   "outputs": [],
   "source": [
    "import numpy as np\n",
    "from qiskit import QuantumCircuit\n",
    "from mqt.ddsim import DDSIMProvider\n",
    "\n",
    "qc = QuantumCircuit(2)\n",
    "qc.h(0)\n",
    "qc.cx(0,1)\n",
    "\n",
    "provider = DDSIMProvider()\n",
    "backend = provider.get_backend(\"statevector_simulator\")\n",
    "result = backend.run(qc).result()\n",
    "state = result.get_statevector(qc)\n",
    "expected = (1/np.sqrt(2))*np.array([1,0,0,1])\n",
    "np.allclose(state, expected)"
   ]
  },
  {
   "cell_type": "markdown",
   "id": "28b2145b",
   "metadata": {},
   "source": [
    "## Amplitude Dictionary"
   ]
  },
  {
   "cell_type": "code",
   "execution_count": null,
   "id": "e2d2afec",
   "metadata": {},
   "outputs": [],
   "source": [
    "amplitudes = {format(i, \"02b\"): amp for i, amp in enumerate(state)}\n",
    "amplitudes"
   ]
  },
  {
   "cell_type": "markdown",
   "id": "9c1a376b",
   "metadata": {},
   "source": [
    "## Sampling Measurements"
   ]
  },
  {
   "cell_type": "code",
   "execution_count": null,
   "id": "2d72c58f",
   "metadata": {},
   "outputs": [],
   "source": [
    "backend_counts = provider.get_backend(\"qasm_simulator\")\n",
    "counts = backend_counts.run(qc, shots=1000).result().get_counts(qc)\n",
    "counts"
   ]
  }
 ],
 "metadata": {},
 "nbformat": 4,
 "nbformat_minor": 5
}
