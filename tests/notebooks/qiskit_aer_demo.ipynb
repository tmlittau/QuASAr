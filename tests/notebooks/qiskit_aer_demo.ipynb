{
 "cells": [
  {
   "cell_type": "markdown",
   "id": "098ab131",
   "metadata": {},
   "source": [
    "# Qiskit Aer Usage Examples\n",
    "\n",
    "This notebook showcases basic usage of the Qiskit Aer simulator independently of QuASAr."
   ]
  },
  {
   "cell_type": "markdown",
   "id": "e8b2ee55",
   "metadata": {},
   "source": [
    "## Bell State Simulation"
   ]
  },
  {
   "cell_type": "code",
   "execution_count": null,
   "id": "468fdb94",
   "metadata": {},
   "outputs": [],
   "source": [
    "import numpy as np\n",
    "from qiskit import QuantumCircuit\n",
    "from qiskit_aer import AerSimulator\n",
    "\n",
    "qc = QuantumCircuit(2)\n",
    "qc.h(0)\n",
    "qc.cx(0,1)\n",
    "\n",
    "sim = AerSimulator(method=\"statevector\")\n",
    "result = sim.run(qc).result()\n",
    "state = result.get_statevector(qc)\n",
    "expected = (1/np.sqrt(2))*np.array([1,0,0,1])\n",
    "np.allclose(state, expected)"
   ]
  },
  {
   "cell_type": "markdown",
   "id": "d29b1008",
   "metadata": {},
   "source": [
    "## Measurement Sampling"
   ]
  },
  {
   "cell_type": "code",
   "execution_count": null,
   "id": "00bdb87a",
   "metadata": {},
   "outputs": [],
   "source": [
    "qc.measure_all()\n",
    "sim_shots = AerSimulator()\n",
    "counts = sim_shots.run(qc, shots=1000).result().get_counts(qc)\n",
    "counts"
   ]
  },
  {
   "cell_type": "markdown",
   "id": "619ada25",
   "metadata": {},
   "source": [
    "## Density Matrix Representation"
   ]
  },
  {
   "cell_type": "code",
   "execution_count": null,
   "id": "1bc39195",
   "metadata": {},
   "outputs": [],
   "source": [
    "from qiskit.quantum_info import partial_trace\n",
    "qc2 = QuantumCircuit(2)\n",
    "qc2.h(0)\n",
    "qc2.cx(0,1)\n",
    "dm_sim = AerSimulator(method=\"density_matrix\")\n",
    "dm = dm_sim.run(qc2).result().data(0)[\"density_matrix\"]\n",
    "dm"
   ]
  }
 ],
 "metadata": {},
 "nbformat": 4,
 "nbformat_minor": 5
}
