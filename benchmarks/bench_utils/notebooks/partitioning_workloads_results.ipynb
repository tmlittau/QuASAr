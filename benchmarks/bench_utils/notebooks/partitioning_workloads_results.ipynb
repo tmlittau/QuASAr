{
 "cells": [
  {
   "cell_type": "markdown",
   "id": "19a5f129",
   "metadata": {},
   "source": [
    "# Partitioning workload benchmarks\n",
    "\n",
    "This notebook regenerates the deterministic partitioning scenarios used in the paper. It executes each workload sweep under the shared memory budget, persists the raw CSV/JSON tables in `benchmarks/results/`, and creates the publication summaries and figures inline."
   ]
  },
  {
   "cell_type": "markdown",
   "id": "39e1321b",
   "metadata": {},
   "source": [
    "The workflow relies on the benchmark helpers introduced alongside the partitioning experiments:\n",
    "\n",
    "1. Resolve the repository root and add `benchmarks/` to `sys.path`.\n",
    "2. Import the scenario registry plus the runner utilities.\n",
    "3. Execute each scenario with a single repetition and a 256 MiB memory budget, mirroring the CLI invocations documented in ``benchmarks/README.md``.\n",
    "4. Write the raw results (`.csv`/`.json`) and summary tables, then render a runtime comparison figure for the paper."
   ]
  },
  {
   "cell_type": "code",
   "execution_count": null,
   "id": "5aec019b",
   "metadata": {},
   "outputs": [],
   "source": [
    "from __future__ import annotations\n",
    "\n",
    "import sys\n",
    "from pathlib import Path\n",
    "\n",
    "import pandas as pd\n",
    "import matplotlib.pyplot as plt\n",
    "from IPython.display import Markdown, display\n",
    "\n",
    "def find_repo_root(start: Path) -> Path:\n",
    "    for parent in [start, *start.parents]:\n",
    "        if (parent / 'pyproject.toml').exists():\n",
    "            return parent\n",
    "    raise RuntimeError('unable to locate project root')\n",
    "\n",
    "REPO_ROOT = find_repo_root(Path.cwd())\n",
    "BENCHMARK_ROOT = REPO_ROOT / 'benchmarks'\n",
    "if str(BENCHMARK_ROOT) not in sys.path:\n",
    "    sys.path.insert(0, str(BENCHMARK_ROOT))\n",
    "\n",
    "from partitioning_workloads import SCENARIOS, iter_scenario\n",
    "from run_benchmark import (\n",
    "    run_scenarios,\n",
    "    save_results,\n",
    "    write_partitioning_tables,\n",
    "    summarise_partitioning,\n",
    ")\n",
    "from plot_utils import setup_benchmark_style, plot_quasar_vs_baseline_best\n"
   ]
  },
  {
   "cell_type": "code",
   "execution_count": null,
   "id": "ac98986d",
   "metadata": {},
   "outputs": [],
   "source": [
    "RESULTS_DIR = REPO_ROOT / 'benchmarks' / 'results'\n",
    "RESULTS_DIR.mkdir(parents=True, exist_ok=True)\n",
    "MEMORY_BUDGET = 256 * 1024 * 1024  # 256 MiB\n",
    "REPETITIONS = 1\n",
    "\n",
    "setup_benchmark_style(context='paper', font_scale=1.0)\n"
   ]
  },
  {
   "cell_type": "code",
   "execution_count": null,
   "id": "2d2999d9",
   "metadata": {},
   "outputs": [],
   "source": [
    "scenario_results: dict[str, pd.DataFrame] = {}\n",
    "scenario_summaries: dict[str, pd.DataFrame] = {}\n",
    "\n",
    "for name in sorted(SCENARIOS):\n",
    "    display(Markdown(f\"## Scenario: {name.replace('_', ' ').title()}\"))\n",
    "    instances = iter_scenario(name)\n",
    "    df = run_scenarios(instances, REPETITIONS, memory_bytes=MEMORY_BUDGET)\n",
    "    base_path = RESULTS_DIR / name\n",
    "    save_results(df, base_path)\n",
    "    write_partitioning_tables(df, base_path)\n",
    "    summary = summarise_partitioning(df)\n",
    "    scenario_results[name] = df\n",
    "    scenario_summaries[name] = summary\n",
    "    display(Markdown('### Raw results'))\n",
    "    display(df)\n",
    "    display(Markdown('### Summary table'))\n",
    "    display(summary)\n",
    "    fig, ax = plt.subplots(figsize=(6.5, 4.0))\n",
    "    plot_quasar_vs_baseline_best(\n",
    "        df[df['scenario'] == name],\n",
    "        metric='run_time_mean',\n",
    "        annotate_backend=True,\n",
    "        ax=ax,\n",
    "        log_scale=False,\n",
    "    )\n",
    "    ax.set_title(f\"{name.replace('_', ' ').title()} runtime comparison\")\n",
    "    ax.set_ylabel('Runtime (s)')\n",
    "    plt.show()\n"
   ]
  },
  {
   "cell_type": "code",
   "execution_count": null,
   "id": "b432a95b",
   "metadata": {},
   "outputs": [],
   "source": [
    "combined_summary = pd.concat(scenario_summaries.values(), ignore_index=True)\n",
    "display(Markdown('## Combined summary'))\n",
    "display(combined_summary)\n"
   ]
  }
 ],
 "metadata": {
  "kernelspec": {
   "display_name": "Python 3",
   "language": "python",
   "name": "python3"
  },
  "language_info": {
   "name": "python",
   "version": "3.12"
  }
 },
 "nbformat": 4,
 "nbformat_minor": 5
}
