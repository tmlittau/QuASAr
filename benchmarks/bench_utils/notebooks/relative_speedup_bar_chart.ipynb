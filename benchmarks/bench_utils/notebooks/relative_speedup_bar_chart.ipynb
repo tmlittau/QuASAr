{
 "cells": [
  {
   "cell_type": "code",
   "execution_count": null,
   "id": "628c9695",
   "metadata": {},
   "outputs": [],
   "source": [
    "import csv\n",
    "from pathlib import Path\n",
    "data_path = Path('..') / 'quick_analysis_results.csv'\n",
    "rows = list(csv.DictReader(open(data_path)))\n",
    "speedups = [2*float(r['full_time'])/float(r['quick_time']) for r in rows]\n",
    "circuits = [f\"{int(r['qubits'])*2}q\" for r in rows]\n"
   ]
  },
  {
   "cell_type": "code",
   "execution_count": null,
   "id": "f20bccab",
   "metadata": {},
   "outputs": [],
   "source": [
    "import matplotlib.pyplot as plt\n",
    "plt.figure(figsize=(8, 4))\n",
    "plt.bar(circuits, speedups)\n",
    "plt.ylabel('Speedup (×)')\n",
    "plt.xlabel('Circuit')\n",
    "plt.title('Relative Speedups')\n",
    "plt.show()\n"
   ]
  },
  {
   "cell_type": "markdown",
   "metadata": {},
   "source": [
    "## Parallel GHZ subsystems\n",
    "\n",
    "Independent GHZ chains built with ``many_ghz_subsystems`` remain disjoint\n",
    "throughout the circuit.  The planner therefore tags a single step with\n",
    "parallel metadata that the scheduler can execute concurrently.  The cell\n",
    "below compares the cost model's sequential and parallel estimates for\n",
    "eight groups of six qubits.\n"
   ]
  },
  {
   "cell_type": "code",
   "metadata": {},
   "execution_count": 3,
   "source": [
    "from benchmarks.parallel_circuits import many_ghz_subsystems\n",
    "from quasar.cost import Backend\n",
    "from quasar.partitioner import Partitioner\n",
    "from quasar.planner import Planner, _add_cost, _parallel_simulation_cost, _simulation_cost\n",
    "\n",
    "num_groups, group_size = 8, 6\n",
    "circuit = many_ghz_subsystems(num_groups=num_groups, group_size=group_size)\n",
    "\n",
    "planner = Planner()\n",
    "plan = planner.plan(circuit, backend=Backend.TABLEAU)\n",
    "step = plan.steps[0]\n",
    "groups = Partitioner().parallel_groups(circuit.gates)\n",
    "\n",
    "estimator = planner.estimator\n",
    "sequential = None\n",
    "for qubits, gates in groups:\n",
    "    n = len(qubits)\n",
    "    num_meas = sum(1 for gate in gates if gate.gate.upper() in {\"MEASURE\", \"RESET\"})\n",
    "    num_1q = sum(\n",
    "        1\n",
    "        for gate in gates\n",
    "        if len(gate.qubits) == 1 and gate.gate.upper() not in {\"MEASURE\", \"RESET\"}\n",
    "    )\n",
    "    num_2q = sum(\n",
    "        1\n",
    "        for gate in gates\n",
    "        if len(gate.qubits) > 1 and gate.gate.upper() not in {\"MEASURE\", \"RESET\"}\n",
    "    )\n",
    "    cost = _simulation_cost(estimator, Backend.TABLEAU, n, num_1q, num_2q, num_meas)\n",
    "    sequential = cost if sequential is None else _add_cost(sequential, cost)\n",
    "\n",
    "parallel_cost = _parallel_simulation_cost(estimator, Backend.TABLEAU, groups)\n",
    "\n",
    "print(f\"Plan step parallel groups: {step.parallel}\")\n",
    "print(\n",
    "    f\"Sequential estimate: {sequential.time:.6f}s, Parallel estimate: {parallel_cost.time:.6f}s\"\n",
    ")\n",
    "if parallel_cost.time > 0:\n",
    "    print(f\"Estimated speed-up: {sequential.time / parallel_cost.time:.2f}x\")\n"
   ],
   "outputs": [
    {
     "name": "stdout",
     "output_type": "stream",
     "text": [
      "Plan step parallel groups: ((0, 1, 2, 3, 4, 5), (6, 7, 8, 9, 10, 11), (12, 13, 14, 15, 16, 17), (18, 19, 20, 21, 22, 23), (24, 25, 26, 27, 28, 29), (30, 31, 32, 33, 34, 35), (36, 37, 38, 39, 40, 41), (42, 43, 44, 45, 46, 47))\n",
      "Sequential estimate: 6912.000000s, Parallel estimate: 864.000000s\n",
      "Estimated speed-up: 8.00x\n"
     ]
    }
   ]
  }
 ],
 "metadata": {
  "kernelspec": {
   "display_name": "Python 3",
   "language": "python",
   "name": "python3"
  },
  "language_info": {
   "name": "python",
   "version": "3"
  }
 },
 "nbformat": 4,
 "nbformat_minor": 5
}
