{
  "cells": [
    {
      "cell_type": "markdown",
      "id": "runtime-vs-alpha",
      "metadata": {},
      "source": [
        "# Runtime vs $\\alpha$\n",
        "\n",
        "Measure the runtime of a simple sleep-based workload for various\\n",
        "conversion cost multipliers $\\alpha$ and plot the results."
      ]
    },
    {
      "cell_type": "code",
      "execution_count": null,
      "id": "measure-runtime",
      "metadata": {},
      "outputs": [],
      "source": [
        "import time\n",
        "import matplotlib.pyplot as plt\n",
        "\n",
        "alphas = [1, 2, 4, 8]\n",
        "\n",
        "def run(alpha: float) -> float:\n",
        "    start = time.perf_counter()\n",
        "    time.sleep(alpha * 0.05)\n",
        "    return time.perf_counter() - start\n",
        "\n",
        "runtimes = [run(a) for a in alphas]\n",
        "for a, rt in zip(alphas, runtimes):\n",
        "    print(f\"alpha={a} runtime={rt:.3f} s\")\n",
        "\n",
        "plt.figure()\n",
        "plt.plot(alphas, runtimes, marker='o')\n",
        "plt.xlabel(r\"$\\alpha$\")\n",
        "plt.ylabel(\"runtime (s)\")\n",
        "plt.title(\"Runtime vs alpha\")\n",
        "plt.show()\n"
      ]
    }
  ],
  "metadata": {},
  "nbformat": 4,
  "nbformat_minor": 5
}