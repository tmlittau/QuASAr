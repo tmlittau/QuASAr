{
 "cells": [
  {
   "cell_type": "markdown",
   "id": "a692d342",
   "metadata": {},
   "source": [
    "# Plan Cache Hit Rate\n",
    "\n",
    "Evaluate repeated circuit runs and tabulate plan cache hit rates."
   ]
  },
  {
   "cell_type": "code",
   "execution_count": null,
   "id": "e0480eab",
   "metadata": {},
   "outputs": [],
   "source": [
    "\n",
    "from benchmarks.circuits import ghz_circuit\n",
    "from quasar.planner import Planner\n",
    "import pandas as pd\n",
    "\n",
    "planner = Planner()\n",
    "records = []\n",
    "for run in range(1, 11):\n",
    "    planner.plan(ghz_circuit(8))\n",
    "    records.append({\n",
    "        \"run\": run,\n",
    "        \"cache_hits\": planner.cache_hits,\n",
    "        \"hit_rate\": planner.cache_hits / run,\n",
    "    })\n",
    "df = pd.DataFrame(records)\n",
    "df\n"
   ]
  },
  {
   "cell_type": "code",
   "execution_count": null,
   "id": "12670b4c",
   "metadata": {},
   "outputs": [],
   "source": [
    "\n",
    "# Save parameters and results\n",
    "import json, pathlib\n",
    "try:\n",
    "    import ipynbname\n",
    "    nb_name = ipynbname.path().stem\n",
    "except Exception:  # pragma: no cover\n",
    "    nb_name = 'plan_cache_hit_rate'\n",
    "params = {\"runs\": len(records)}\n",
    "pathlib.Path('../results').mkdir(exist_ok=True)\n",
    "with open(f\"../results/{nb_name}_results.json\", 'w') as f:\n",
    "    json.dump(records, f, indent=2, default=str)\n",
    "print(json.dumps(params, indent=2, default=str))\n"
   ]
  }
 ],
 "metadata": {
  "kernelspec": {
   "display_name": "Python 3",
   "language": "python",
   "name": "python3"
  },
  "language_info": {
   "name": "python",
   "version": "3.8"
  }
 },
 "nbformat": 4,
 "nbformat_minor": 5
}
