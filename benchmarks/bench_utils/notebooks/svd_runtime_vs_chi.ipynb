{
 "cells": [
  {
   "cell_type": "markdown",
   "id": "2cdd5c26",
   "metadata": {},
   "source": [
    "# SVD Runtime vs $\\chi$\n",
    "\n",
    "This notebook benchmarks the runtime of NumPy's SVD for random square matrices of dimension $\\chi$ and plots the scaling on log–log axes."
   ]
  },
  {
   "cell_type": "code",
   "execution_count": null,
   "id": "115eac04",
   "metadata": {},
   "outputs": [],
   "source": [
    "\n",
    "import numpy as np\n",
    "import time\n",
    "import matplotlib.pyplot as plt\n",
    "\n",
    "chis = [8, 16, 32, 64, 128]\n",
    "repeats = 5\n",
    "\n",
    "np.random.seed(0)\n",
    "\n",
    "def svd_runtime(chi, repeats=20):\n",
    "    m = np.random.rand(chi, chi)\n",
    "    times = []\n",
    "    for _ in range(repeats):\n",
    "        start = time.perf_counter()\n",
    "        np.linalg.svd(m, full_matrices=False)\n",
    "        times.append(time.perf_counter() - start)\n",
    "    return min(times)\n",
    "\n",
    "runtimes = [svd_runtime(chi, repeats) for chi in chis]\n",
    "for chi, rt in zip(chis, runtimes):\n",
    "    print(f\"chi={chi:2d} runtime={rt:.2e} s\")\n",
    "\n",
    "plt.figure()\n",
    "plt.loglog(chis, runtimes, marker='o')\n",
    "plt.xlabel(r\"$\\chi$\")\n",
    "plt.ylabel(\"runtime (s)\")\n",
    "plt.title(\"SVD runtime vs chi\")\n",
    "plt.show()\n"
   ]
  }
 ],
 "metadata": {},
 "nbformat": 4,
 "nbformat_minor": 5
}
