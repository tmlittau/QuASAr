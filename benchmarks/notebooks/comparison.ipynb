{
 "cells": [
  {
   "cell_type": "markdown",
   "id": "21b8aac9",
   "metadata": {},
   "source": [
    "# Benchmark Comparison"
   ]
  },
  {
   "cell_type": "markdown",
   "id": "5755f2e7",
   "metadata": {},
   "source": [
    "This notebook demonstrates how to run benchmarks using the command line interface and visualize the results. It additionally compares QuASAr's native backends with external simulators from Qiskit Aer and MQT DD.\n"
   ]
  },
  {
   "cell_type": "code",
   "execution_count": null,
   "id": "8cb64ee1",
   "metadata": {},
   "outputs": [],
   "source": [
    "%pip install qiskit-aer mqt.ddsim mqt-core\n"
   ]
  },
  {
   "cell_type": "code",
   "execution_count": 1,
   "id": "0d93ff9f",
   "metadata": {
    "execution": {
     "iopub.execute_input": "2025-08-29T01:57:29.694568Z",
     "iopub.status.busy": "2025-08-29T01:57:29.694248Z",
     "iopub.status.idle": "2025-08-29T01:57:31.947636Z",
     "shell.execute_reply": "2025-08-29T01:57:31.946641Z"
    }
   },
   "outputs": [],
   "source": [
    "import json\n",
    "from pathlib import Path\n",
    "import pandas as pd\n",
    "import matplotlib.pyplot as plt\n",
    "import seaborn as sns\n",
    "sns.set_theme()"
   ]
  },
  {
   "cell_type": "code",
   "execution_count": 2,
   "id": "1fde3bf3",
   "metadata": {
    "execution": {
     "iopub.execute_input": "2025-08-29T01:57:31.951354Z",
     "iopub.status.busy": "2025-08-29T01:57:31.950844Z",
     "iopub.status.idle": "2025-08-29T01:57:33.460316Z",
     "shell.execute_reply": "2025-08-29T01:57:33.459266Z"
    }
   },
   "outputs": [
    {
     "data": {
      "text/html": [
       "<div>\n",
       "<style scoped>\n",
       "    .dataframe tbody tr th:only-of-type {\n",
       "        vertical-align: middle;\n",
       "    }\n",
       "\n",
       "    .dataframe tbody tr th {\n",
       "        vertical-align: top;\n",
       "    }\n",
       "\n",
       "    .dataframe thead th {\n",
       "        text-align: right;\n",
       "    }\n",
       "</style>\n",
       "<table border=\"1\" class=\"dataframe\">\n",
       "  <thead>\n",
       "    <tr style=\"text-align: right;\">\n",
       "      <th></th>\n",
       "      <th>circuit</th>\n",
       "      <th>qubits</th>\n",
       "      <th>framework</th>\n",
       "      <th>repetitions</th>\n",
       "      <th>avg_time</th>\n",
       "      <th>variance</th>\n",
       "    </tr>\n",
       "  </thead>\n",
       "  <tbody>\n",
       "    <tr>\n",
       "      <th>0</th>\n",
       "      <td>ghz_circuit</td>\n",
       "      <td>2</td>\n",
       "      <td>statevector</td>\n",
       "      <td>2</td>\n",
       "      <td>0.000369</td>\n",
       "      <td>5.933073e-08</td>\n",
       "    </tr>\n",
       "    <tr>\n",
       "      <th>1</th>\n",
       "      <td>ghz_circuit</td>\n",
       "      <td>3</td>\n",
       "      <td>statevector</td>\n",
       "      <td>2</td>\n",
       "      <td>0.000221</td>\n",
       "      <td>1.034818e-08</td>\n",
       "    </tr>\n",
       "    <tr>\n",
       "      <th>2</th>\n",
       "      <td>ghz_circuit</td>\n",
       "      <td>4</td>\n",
       "      <td>statevector</td>\n",
       "      <td>2</td>\n",
       "      <td>0.000152</td>\n",
       "      <td>2.050731e-11</td>\n",
       "    </tr>\n",
       "    <tr>\n",
       "      <th>3</th>\n",
       "      <td>ghz_circuit</td>\n",
       "      <td>5</td>\n",
       "      <td>statevector</td>\n",
       "      <td>2</td>\n",
       "      <td>0.000169</td>\n",
       "      <td>7.298643e-10</td>\n",
       "    </tr>\n",
       "  </tbody>\n",
       "</table>\n",
       "</div>"
      ],
      "text/plain": [
       "       circuit  qubits    framework  repetitions  avg_time      variance\n",
       "0  ghz_circuit       2  statevector            2  0.000369  5.933073e-08\n",
       "1  ghz_circuit       3  statevector            2  0.000221  1.034818e-08\n",
       "2  ghz_circuit       4  statevector            2  0.000152  2.050731e-11\n",
       "3  ghz_circuit       5  statevector            2  0.000169  7.298643e-10"
      ]
     },
     "execution_count": 2,
     "metadata": {},
     "output_type": "execute_result"
    }
   ],
   "source": [
    "import subprocess, sys, tempfile\n",
    "from pathlib import Path\n",
    "\n",
    "tmp = Path(tempfile.gettempdir())/\"quasar_cli_example\"\n",
    "subprocess.run([sys.executable, \"../benchmark_cli.py\", \"--circuit\", \"ghz\", \"--qubits\", \"2:5\", \"--repetitions\", \"2\", \"--output\", str(tmp)], check=True)\n",
    "\n",
    "cli_df = pd.read_csv(tmp.with_suffix(\".csv\"))\n",
    "cli_df"
   ]
  },
  {
   "cell_type": "code",
   "execution_count": 3,
   "id": "cabdb996",
   "metadata": {
    "execution": {
     "iopub.execute_input": "2025-08-29T01:57:33.463770Z",
     "iopub.status.busy": "2025-08-29T01:57:33.463483Z",
     "iopub.status.idle": "2025-08-29T01:57:33.678568Z",
     "shell.execute_reply": "2025-08-29T01:57:33.677712Z"
    }
   },
   "outputs": [
    {
     "data": {
      "image/png": "[encoded data removed]",
      "text/plain": [
       "<Figure size 640x480 with 1 Axes>"
      ]
     },
     "metadata": {},
     "output_type": "display_data"
    }
   ],
   "source": [
    "sns.lineplot(data=cli_df, x=\"qubits\", y=\"avg_time\", marker=\"o\")\n",
    "plt.title(\"GHZ circuit benchmark\")\n",
    "plt.xlabel(\"Qubits\")\n",
    "plt.ylabel(\"Average time (s)\")\n",
    "plt.show()"
   ]
  },
  {
   "cell_type": "code",
   "execution_count": null,
   "id": "2f003844",
   "metadata": {},
   "outputs": [],
   "source": [
    "import sys\n",
    "from pathlib import Path\n",
    "\n",
    "import pandas as pd\n",
    "import matplotlib.pyplot as plt\n",
    "import seaborn as sns\n",
    "\n",
    "nb_root = Path('..').resolve()\n",
    "sys.path.append(str(nb_root))\n",
    "sys.path.append(str(nb_root.parent))\n",
    "\n",
    "from runner import BenchmarkRunner\n",
    "from backends import StatevectorAdapter, StimAdapter, MPSAdapter, DecisionDiagramAdapter\n",
    "import circuits as circuit_lib\n",
    "from quasar import SimulationEngine\n",
    "\n",
    "backends = [StatevectorAdapter(), StimAdapter(), MPSAdapter(), DecisionDiagramAdapter()]\n",
    "runner = BenchmarkRunner()\n",
    "engine = SimulationEngine()\n",
    "\n",
    "circuits = {\n",
    "    \"ghz\": circuit_lib.ghz_circuit,\n",
    "    \"qft\": circuit_lib.qft_circuit,\n",
    "    \"qft_on_ghz\": circuit_lib.qft_on_ghz_circuit,\n",
    "    \"w_state\": circuit_lib.w_state_circuit,\n",
    "    \"grover\": lambda n: circuit_lib.grover_circuit(n),\n",
    "    \"bernstein_vazirani\": lambda n: circuit_lib.bernstein_vazirani_circuit(n, secret=1),\n",
    "    \"amplitude_estimation\": lambda n: circuit_lib.amplitude_estimation_circuit(n, probability=0.125),\n",
    "    \"bmw_quark\": lambda n: circuit_lib.bmw_quark_circuit(n, depth=1),\n",
    "    \"adder\": lambda n: circuit_lib.adder_circuit(n, kind=\"cdkm\"),\n",
    "    \"deutsch_jozsa\": circuit_lib.deutsch_jozsa_circuit,\n",
    "    \"graph_state\": lambda n: circuit_lib.graph_state_circuit(n, degree=2, seed=0),\n",
    "    \"hhl\": circuit_lib.hhl_circuit,\n",
    "    \"hrs\": circuit_lib.hrs_circuit,\n",
    "    \"qaoa\": lambda n: circuit_lib.qaoa_circuit(n, repetitions=1, seed=0),\n",
    "    \"qnn\": circuit_lib.qnn_circuit,\n",
    "    \"qpe\": circuit_lib.qpe_circuit,\n",
    "    \"quantum_walk\": lambda n: circuit_lib.quantum_walk_circuit(n, depth=1),\n",
    "    \"random\": lambda n: circuit_lib.random_circuit(n, seed=0),\n",
    "    \"shor\": circuit_lib.shor_circuit,\n",
    "    \"real_amplitudes\": circuit_lib.real_amplitudes_circuit,\n",
    "    \"efficient_su2\": circuit_lib.efficient_su2_circuit,\n",
    "    \"two_local\": circuit_lib.two_local_circuit,\n",
    "}\n",
    "\n",
    "qubit_sizes = [2, 4, 6]\n",
    "\n",
    "for name, build in circuits.items():\n",
    "    for n in qubit_sizes:\n",
    "        try:\n",
    "            circ = build(n)\n",
    "        except Exception:\n",
    "            continue\n",
    "        for b in backends:\n",
    "            try:\n",
    "                rec = runner.run_multiple(circ, b, return_state=False, repetitions=3)\n",
    "                rec[\"circuit\"] = name\n",
    "                rec[\"qubits\"] = n\n",
    "            except Exception:\n",
    "                pass\n",
    "        rec = runner.run_quasar(circ, engine)\n",
    "        rec[\"circuit\"] = name\n",
    "        rec[\"qubits\"] = n\n",
    "\n",
    "df = pd.DataFrame(runner.results)\n",
    "# total_time provided by BenchmarkRunner\n",
    "df_long = df.melt(id_vars=[\"circuit\", \"framework\", \"qubits\"], value_vars=[\"prepare_time\", \"run_time\"], var_name=\"phase\", value_name=\"time\")\n",
    "g = sns.relplot(data=df_long, x=\"qubits\", y=\"time\", hue=\"framework\", style=\"phase\", col=\"circuit\", col_wrap=3, kind=\"line\")\n",
    "g.set(yscale=\"log\")\n",
    "plt.show()\n",
    "df[[\"circuit\", \"framework\", \"qubits\", \"prepare_time\", \"run_time\", \"total_time\"]]\n"
   ]
  },
  {
   "cell_type": "markdown",
   "id": "2e71e538",
   "metadata": {},
   "source": [
    "These results separate the **preparation** time from the actual **simulation** run time. Preparation typically includes converting circuits or planning steps, whereas simulation measures the time spent executing the circuit. The table and plot above illustrate how both components contribute to the total runtime."
   ]
  },
  {
   "cell_type": "code",
   "execution_count": null,
   "id": "ddd6f198",
   "metadata": {},
   "outputs": [],
   "source": [
    "import pandas as pd\n",
    "from benchmarks.stats_utils import stats_table\n",
    "\n",
    "def add_stats(df, quasar_col='QuASAr', baseline_cols=None, test='ttest', correction='bonferroni'):\n",
    "    \"\"\"Compute statistics comparing QuASAr with baselines.\n",
    "\n",
    "    Parameters\n",
    "    ----------\n",
    "    df : pandas.DataFrame\n",
    "        DataFrame with per-circuit results. One column must correspond to QuASAr,\n",
    "        others to baselines.\n",
    "    quasar_col : str\n",
    "        Name of the column containing QuASAr results.\n",
    "    baseline_cols : list[str] | None\n",
    "        Columns to treat as baselines. Defaults to all columns except quasar_col.\n",
    "    test : str\n",
    "        'ttest' or 'wilcoxon'.\n",
    "    correction : str\n",
    "        'bonferroni' or 'fdr_bh'.\n",
    "\n",
    "    Returns\n",
    "    -------\n",
    "    pd.DataFrame\n",
    "        Table with baseline name, statistic, corrected p-value, and effect size.\n",
    "    \"\"\"\n",
    "    if baseline_cols is None:\n",
    "        baseline_cols = [c for c in df.columns if c != quasar_col]\n",
    "    baselines = {c: df[c] for c in baseline_cols}\n",
    "    return stats_table(df[quasar_col], baselines, test=test, correction=correction)\n",
    "\n",
    "# Example usage after computing results DataFrame named `results_df`:\n",
    "# stats_df = add_stats(results_df)\n",
    "# stats_df\n"
   ]
  },
  {
   "cell_type": "code",
   "execution_count": null,
   "id": "40e767c3",
   "metadata": {},
   "outputs": [],
   "source": [
    "\n",
    "# Record parameters and results\n",
    "import json, pathlib\n",
    "try:\n",
    "    import ipynbname\n",
    "    nb_name = ipynbname.path().stem\n",
    "except Exception:  # pragma: no cover\n",
    "    nb_name = 'notebook'\n",
    "\n",
    "# Collect simple parameters from globals\n",
    "_params = {\n",
    "    k: v for k, v in globals().items()\n",
    "    if not k.startswith('_') and isinstance(v, (int, float, str, bool, list, dict, tuple))\n",
    "}\n",
    "pathlib.Path('../results').mkdir(exist_ok=True)\n",
    "with open(f\"../results/{nb_name}_params.json\", 'w') as f:\n",
    "    json.dump(_params, f, indent=2)\n",
    "if 'results' in globals():\n",
    "    try:\n",
    "        with open(f\"../results/{nb_name}_results.json\", 'w') as f:\n",
    "            json.dump(results, f, indent=2)\n",
    "    except TypeError:\n",
    "        pass\n",
    "print(json.dumps(_params, indent=2))\n"
   ]
  }
 ],
 "metadata": {
  "language_info": {
   "codemirror_mode": {
    "name": "ipython",
    "version": 3
   },
   "file_extension": ".py",
   "mimetype": "text/x-python",
   "name": "python",
   "nbconvert_exporter": "python",
   "pygments_lexer": "ipython3",
   "version": "3.12.10"
  }
 },
 "nbformat": 4,
 "nbformat_minor": 5
}
