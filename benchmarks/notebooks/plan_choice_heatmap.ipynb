{
 "cells": [
  {
   "cell_type": "code",
   "execution_count": null,
   "id": "1e9accda",
   "metadata": {},
   "outputs": [],
   "source": [
    "import inspect, sys, pathlib\n",
    "import pandas as pd\n",
    "import seaborn as sns\n",
    "import matplotlib.pyplot as plt\n",
    "\n",
    "# Make project root importable\n",
    "root = pathlib.Path('..', '..').resolve()\n",
    "sys.path.append(str(root))\n",
    "\n",
    "from quasar.planner import Planner\n",
    "from quasar.simulation_engine import SimulationEngine\n",
    "from benchmarks.circuits import ghz_circuit, grover_circuit\n"
   ]
  },
  {
   "cell_type": "code",
   "execution_count": null,
   "id": "dc6756a3",
   "metadata": {},
   "outputs": [],
   "source": [
    "alphas = [1, 2, 4, 8]\n",
    "circuits = {\n",
    "    'GHZ_8': ghz_circuit(8),\n",
    "    'Grover_5': grover_circuit(5, 1),\n",
    "}\n",
    "records = []\n",
    "for name, circ in circuits.items():\n",
    "    for alpha in alphas:\n",
    "        kwargs = {'conversion_cost_multiplier': alpha}\n",
    "        if 'compare_pre_pass_costs' in inspect.signature(Planner).parameters:\n",
    "            kwargs['compare_pre_pass_costs'] = True\n",
    "        planner = Planner(**kwargs)\n",
    "        engine = SimulationEngine(planner=planner)\n",
    "        plan = planner.plan(circ)\n",
    "        records.append({'circuit': name, 'alpha': alpha, 'backend': plan.final_backend.name})\n",
    "df = pd.DataFrame(records)\n",
    "pivot = df.pivot('circuit', 'alpha', 'backend')\n",
    "sns.heatmap(pivot, annot=True, fmt='', cmap='viridis')\n",
    "plt.title('Planner backend choice')\n",
    "plt.show()\n",
    "results = df\n"
   ]
  },
  {
   "cell_type": "code",
   "execution_count": null,
   "id": "0d390d47",
   "metadata": {},
   "outputs": [],
   "source": [
    "import json, pathlib\n",
    "try:\n",
    "    import ipynbname\n",
    "    nb_name = ipynbname.path().stem\n",
    "except Exception:  # pragma: no cover\n",
    "    nb_name = 'plan_choice_heatmap'\n",
    "_params = {k: v for k, v in globals().items() if not k.startswith('_') and isinstance(v, (int, float, str, bool, list, dict, tuple))}\n",
    "pathlib.Path('../results').mkdir(exist_ok=True)\n",
    "with open(f\"../results/{nb_name}_params.json\", 'w') as f:\n",
    "    json.dump(_params, f, indent=2)\n",
    "with open(f\"../results/{nb_name}_results.json\", 'w') as f:\n",
    "    json.dump(results.to_dict(orient='records'), f, indent=2)\n",
    "print(json.dumps(_params, indent=2))\n"
   ]
  }
 ],
 "metadata": {
  "kernelspec": {
   "display_name": "Python 3",
   "language": "python",
   "name": "python3"
  },
  "language_info": {
   "name": "python"
  }
 },
 "nbformat": 4,
 "nbformat_minor": 5
}
