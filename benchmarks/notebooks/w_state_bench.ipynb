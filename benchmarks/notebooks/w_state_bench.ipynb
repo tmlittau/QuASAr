{
 "cells": [
  {
   "cell_type": "markdown",
   "id": "7c8d42b7",
   "metadata": {},
   "source": [
    "# W State Benchmark"
   ]
  },
  {
   "cell_type": "code",
   "execution_count": null,
   "id": "2f58e24d",
   "metadata": {},
   "outputs": [],
   "source": [
    "import sys, pathlib\n",
    "sys.path.append(str(pathlib.Path('..').resolve().parent))\n",
    "from benchmarks.circuits import w_state_circuit\n",
    "from benchmarks.backends import (\n",
    "    StatevectorAdapter, StimAdapter, MPSAdapter,\n",
    ")\n",
    "from benchmarks.runner import BenchmarkRunner\n",
    "from quasar import SimulationEngine\n",
    "import pandas as pd\n",
    "import seaborn as sns\n",
    "import matplotlib.pyplot as plt\n",
    "\n",
    "qubit_counts = range(2, 13, 2)\n",
    "\n",
    "backends = [StatevectorAdapter(), StimAdapter(), MPSAdapter(), DecisionDiagramAdapter()]\n",
    "\n",
    "runner = BenchmarkRunner()\n",
    "engine = SimulationEngine()\n",
    "\n",
    "for n in qubit_counts:\n",
    "    circ = w_state_circuit(n)\n",
    "    plan = engine.planner.plan(circ)\n",
    "    backend = plan.steps[0].backend.name if plan.steps else None\n",
    "    print(f\"{n} qubits -> {backend}\")\n",
    "    for b in backends:\n",
    "        try:\n",
    "            rec = runner.run(circ, b, return_state=False)\n",
    "            rec['qubits'] = n\n",
    "            rec['selected_backend'] = None\n",
    "        except Exception:\n",
    "            continue\n",
    "    try:\n",
    "        rec = runner.run_quasar(circ, engine)\n",
    "        rec['qubits'] = n\n",
    "        rec['selected_backend'] = backend\n",
    "    except Exception:\n",
    "        runner.results.append({'framework':'quasar','time':float('nan'),'result':None,'qubits':n,'selected_backend':backend})\n",
    "\n",
    "df = pd.DataFrame(runner.results)\n",
    "print(df[df['framework']=='quasar'][['qubits','selected_backend']])\n",
    "\n",
    "sns.lineplot(data=df, x='qubits', y='time', hue='framework')\n",
    "plt.yscale('log')\n",
    "plt.show()\n"
   ]
  }
 ],
 "metadata": {},
 "nbformat": 4,
 "nbformat_minor": 5
}