{
 "cells": [
  {
   "cell_type": "markdown",
   "id": "00d78082",
   "metadata": {},
   "source": [
    "# Plan Cache Speedup\n",
    "\n",
    "Compare cumulative runtime for cold and warm caches and plot the speedup curve."
   ]
  },
  {
   "cell_type": "code",
   "execution_count": null,
   "id": "f39f969b",
   "metadata": {},
   "outputs": [],
   "source": [
    "from benchmarks.circuits import ghz_circuit\n",
    "from quasar.planner import Planner\n",
    "from time import perf_counter\n",
    "import pandas as pd\n",
    "import matplotlib.pyplot as plt\n",
    "\n",
    "runs = 10\n",
    "planner_cold = Planner()\n",
    "planner_warm = Planner()\n",
    "records = []\n",
    "for i in range(1, runs + 1):\n",
    "    circ = ghz_circuit(6)\n",
    "    t0 = perf_counter(); planner_cold.plan(circ, use_cache=False); cold = perf_counter() - t0\n",
    "    t1 = perf_counter(); planner_warm.plan(circ, use_cache=True); warm = perf_counter() - t1\n",
    "    records.append({'run': i, 'cold_time': cold, 'warm_time': warm})\n",
    "df = pd.DataFrame(records)\n",
    "df['cum_cold'] = df['cold_time'].cumsum()\n",
    "df['cum_warm'] = df['warm_time'].cumsum()\n",
    "df['speedup'] = df['cum_cold'] / df['cum_warm']\n",
    "df"
   ]
  },
  {
   "cell_type": "code",
   "execution_count": null,
   "id": "cd456bf1",
   "metadata": {},
   "outputs": [],
   "source": [
    "plt.figure(figsize=(6, 4))\n",
    "plt.plot(df['run'], df['speedup'], marker='o')\n",
    "plt.xlabel('Run')\n",
    "plt.ylabel('Cumulative Cold/Warm Runtime Ratio')\n",
    "plt.title('Plan Cache Speedup')\n",
    "plt.grid(True)\n",
    "plt.show()"
   ]
  }
 ],
 "metadata": {},
 "nbformat": 4,
 "nbformat_minor": 5
}
