{
 "cells": [
  {
   "cell_type": "markdown",
   "id": "be7ce7af",
   "metadata": {},
   "source": [
    "# Stabilizer learning time\n",
    "\n",
    "Measure mean ± standard deviation of stabilizer-learning times for several window sizes."
   ]
  },
  {
   "cell_type": "code",
   "execution_count": null,
   "id": "b1b9367a",
   "metadata": {},
   "outputs": [],
   "source": [
    "import time\n",
    "import numpy as np\n",
    "import pandas as pd\n",
    "from quasar_convert import ConversionEngine\n",
    "\n",
    "def plus_state(n: int) -> list[float]:\n",
    "    \"\"\"Return amplitudes of the n-qubit |+...+> state.\"\"\"\n",
    "    dim = 1 << n\n",
    "    amp = 1 / np.sqrt(dim)\n",
    "    return [amp] * dim\n",
    "\n",
    "def measure(engine: ConversionEngine, window_sizes: list[int], repeats: int = 8, inner: int = 5000) -> pd.DataFrame:\n",
    "    \"\"\"Collect mean ± std stabilizer-learning times for ``window_sizes``.\"\"\"\n",
    "    records = []\n",
    "    for n in window_sizes:\n",
    "        state = plus_state(n)\n",
    "        times = []\n",
    "        for _ in range(repeats):\n",
    "            start = time.process_time()\n",
    "            for _ in range(inner):\n",
    "                engine.learn_stabilizer(state)\n",
    "            times.append((time.process_time() - start) / inner)\n",
    "        records.append({\"window\": n, \"mean\": np.mean(times), \"std\": np.std(times, ddof=1)})\n",
    "    return pd.DataFrame(records)\n",
    "\n",
    "engine = ConversionEngine()\n",
    "window_sizes = [1, 2, 3, 4]\n",
    "measure(engine, window_sizes)"
   ]
  }
 ],
 "metadata": {
  "kernelspec": {
   "display_name": "Python 3",
   "language": "python",
   "name": "python3"
  },
  "language_info": {
   "name": "python"
  }
 },
 "nbformat": 4,
 "nbformat_minor": 5
}
