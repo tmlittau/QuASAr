{
 "cells": [
  {
   "cell_type": "code",
   "execution_count": null,
   "id": "628c9695",
   "metadata": {},
   "outputs": [],
   "source": [
    "import csv\n",
    "from pathlib import Path\n",
    "data_path = Path('..') / 'quick_analysis_results.csv'\n",
    "rows = list(csv.DictReader(open(data_path)))\n",
    "speedups = [2*float(r['full_time'])/float(r['quick_time']) for r in rows]\n",
    "circuits = [f\"{int(r['qubits'])*2}q\" for r in rows]\n"
   ]
  },
  {
   "cell_type": "code",
   "execution_count": null,
   "id": "f20bccab",
   "metadata": {},
   "outputs": [],
   "source": [
    "import matplotlib.pyplot as plt\n",
    "plt.figure(figsize=(8, 4))\n",
    "plt.bar(circuits, speedups)\n",
    "plt.ylabel('Speedup (×)')\n",
    "plt.xlabel('Circuit')\n",
    "plt.title('Relative Speedups')\n",
    "plt.show()\n"
   ]
  }
 ],
 "metadata": {
  "kernelspec": {
   "display_name": "Python 3",
   "language": "python",
   "name": "python3"
  },
  "language_info": {
   "name": "python",
   "version": "3"
  }
 },
 "nbformat": 4,
 "nbformat_minor": 5
}
