{
 "cells": [
  {
   "cell_type": "code",
   "metadata": {},
   "source": [
    "import csv\n",
    "from pathlib import Path\n",
    "data_path = Path('..') / 'quick_analysis_results.csv'\n",
    "rows = list(csv.DictReader(open(data_path)))\n",
    "speedups = [float(r['full_time'])/float(r['quick_time']) for r in rows]\n",
    "circuits = [f\"{r['qubits']}q\" for r in rows]\n"
   ],
   "outputs": [],
   "execution_count": null
  },
  {
   "cell_type": "code",
   "metadata": {},
   "source": [
    "import matplotlib.pyplot as plt\n",
    "plt.figure(figsize=(8, 4))\n",
    "plt.bar(circuits, speedups)\n",
    "plt.ylabel('Speedup (\u00d7)')\n",
    "plt.xlabel('Circuit')\n",
    "plt.title('Relative Speedups')\n",
    "plt.show()\n"
   ],
   "outputs": [],
   "execution_count": null
  }
 ],
 "metadata": {
  "kernelspec": {
   "display_name": "Python 3",
   "language": "python",
   "name": "python3"
  },
  "language_info": {
   "name": "python",
   "version": "3"
  }
 },
 "nbformat": 4,
 "nbformat_minor": 5
}