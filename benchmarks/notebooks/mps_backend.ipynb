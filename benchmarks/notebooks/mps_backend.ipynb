{
 "cells": [
  {
   "cell_type": "markdown",
   "id": "64292951",
   "metadata": {},
   "source": [
    "# Matrix Product State (MPS) backend benchmark\n",
    "\n",
    "This notebook runs a small selection of example circuits solely on the `Matrix Product State (MPS)` simulator. It demonstrates how to use `BenchmarkRunner` for collecting timing and memory metrics. Extend the `circuits_to_run` list or adjust parameters to analyze additional workloads.\n"
   ]
  },
  {
   "cell_type": "code",
   "execution_count": null,
   "id": "09be0175",
   "metadata": {},
   "outputs": [],
   "source": [
    "from benchmarks.backends import MPSAdapter\n",
    "from benchmarks.runner import BenchmarkRunner\n",
    "from benchmarks import circuits\n",
    "import pandas as pd"
   ]
  },
  {
   "cell_type": "code",
   "execution_count": null,
   "id": "efb8f7ab",
   "metadata": {},
   "outputs": [],
   "source": [
    "# Select representative circuits\n",
    "circuits_to_run = [\n",
    "    (\"GHZ\", circuits.ghz_circuit(5)),\n",
    "    (\"QFT\", circuits.qft_circuit(5)),\n",
    "    (\"Grover\", circuits.grover_circuit(5, 1)),\n",
    "]\n",
    "\n",
    "runner = BenchmarkRunner()\n",
    "backend = MPSAdapter()\n",
    "for name, circ in circuits_to_run:\n",
    "    res = runner.run_multiple(circ, backend, return_state=False, repetitions=3)\n",
    "    res[\"circuit\"] = name\n",
    "\n",
    "df = runner.dataframe()\n",
    "df[[\"circuit\", \"prepare_time_mean\", \"run_time_mean\", \"total_time_mean\", \"prepare_peak_memory_mean\", \"run_peak_memory_mean\"]]\n"
   ]
  },
  {
   "cell_type": "code",
   "execution_count": null,
   "id": "3bfbfd15",
   "metadata": {},
   "outputs": [],
   "source": [
    "import pandas as pd\n",
    "from benchmarks.stats_utils import stats_table\n",
    "\n",
    "def add_stats(df, quasar_col='QuASAr', baseline_cols=None, test='ttest', correction='bonferroni'):\n",
    "    \"\"\"Compute statistics comparing QuASAr with baselines.\n",
    "\n",
    "    Parameters\n",
    "    ----------\n",
    "    df : pandas.DataFrame\n",
    "        DataFrame with per-circuit results. One column must correspond to QuASAr,\n",
    "        others to baselines.\n",
    "    quasar_col : str\n",
    "        Name of the column containing QuASAr results.\n",
    "    baseline_cols : list[str] | None\n",
    "        Columns to treat as baselines. Defaults to all columns except quasar_col.\n",
    "    test : str\n",
    "        'ttest' or 'wilcoxon'.\n",
    "    correction : str\n",
    "        'bonferroni' or 'fdr_bh'.\n",
    "\n",
    "    Returns\n",
    "    -------\n",
    "    pd.DataFrame\n",
    "        Table with baseline name, statistic, corrected p-value, and effect size.\n",
    "    \"\"\"\n",
    "    if baseline_cols is None:\n",
    "        baseline_cols = [c for c in df.columns if c != quasar_col]\n",
    "    baselines = {c: df[c] for c in baseline_cols}\n",
    "    return stats_table(df[quasar_col], baselines, test=test, correction=correction)\n",
    "\n",
    "# Example usage after computing results DataFrame named `results_df`:\n",
    "# stats_df = add_stats(results_df)\n",
    "# stats_df\n"
   ]
  },
  {
   "cell_type": "code",
   "execution_count": null,
   "id": "1e2f4515",
   "metadata": {},
   "outputs": [],
   "source": [
    "\n",
    "# Record parameters and results\n",
    "import json, pathlib\n",
    "try:\n",
    "    import ipynbname\n",
    "    nb_name = ipynbname.path().stem\n",
    "except Exception:  # pragma: no cover\n",
    "    nb_name = 'notebook'\n",
    "\n",
    "# Collect simple parameters from globals\n",
    "_params = {\n",
    "    k: v for k, v in globals().items()\n",
    "    if not k.startswith('_') and isinstance(v, (int, float, str, bool, list, dict, tuple))\n",
    "}\n",
    "pathlib.Path('../results').mkdir(exist_ok=True)\n",
    "with open(f\"../results/{nb_name}_params.json\", 'w') as f:\n",
    "    json.dump(_params, f, indent=2, default=str)\n",
    "if 'results' in globals():\n",
    "    try:\n",
    "        with open(f\"../results/{nb_name}_results.json\", 'w') as f:\n",
    "            json.dump(results, f, indent=2, default=str)\n",
    "    except TypeError:\n",
    "        pass\n",
    "print(json.dumps(_params, indent=2))\n"
   ]
  }
 ],
 "metadata": {},
 "nbformat": 4,
 "nbformat_minor": 5
}