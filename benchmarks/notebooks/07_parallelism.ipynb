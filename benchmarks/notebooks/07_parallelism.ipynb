{
 "cells": [
  {
   "cell_type": "markdown",
   "metadata": {},
   "source": [
    "# Parallelism Benchmarks\n",
    "This notebook illustrates the effect of enabling scheduler parallel execution across backends."
   ]
  },
  {
   "cell_type": "code",
   "execution_count": null,
   "metadata": {},
   "outputs": [],
   "source": [
    "from quasar import Circuit, Scheduler\n",
    "from quasar.cost import Backend\n",
    "from quasar.planner import Planner\n",
    "import time\n",
    "\n",
    "circuit = Circuit([\n",
    "    {\"gate\": \"T\", \"qubits\": [0]},\n",
    "    {\"gate\": \"T\", \"qubits\": [1]},\n",
    "    {\"gate\": \"H\", \"qubits\": [0]},\n",
    "    {\"gate\": \"H\", \"qubits\": [1]},\n",
    "])\n",
    "\n",
    "class SleepBackend:\n",
    "    def load(self, n):\n",
    "        pass\n",
    "    def apply_gate(self, gate, qubits, params):\n",
    "        time.sleep(0.05)\n",
    "    def extract_ssd(self):\n",
    "        return None\n",
    "\n",
    "scheduler_p = Scheduler(\n",
    "    backends={Backend.STATEVECTOR: SleepBackend()},\n",
    "    planner=Planner(),\n",
    "    quick_max_qubits=None,\n",
    "    quick_max_gates=None,\n",
    "    quick_max_depth=None,\n",
    "    parallel_backends=[Backend.STATEVECTOR],\n",
    ")\n",
    "start = time.time(); scheduler_p.run(circuit); par = time.time() - start\n",
    "\n",
    "scheduler_s = Scheduler(\n",
    "    backends={Backend.STATEVECTOR: SleepBackend()},\n",
    "    planner=Planner(),\n",
    "    quick_max_qubits=None,\n",
    "    quick_max_gates=None,\n",
    "    quick_max_depth=None,\n",
    "    parallel_backends=[],\n",
    ")\n",
    "start = time.time(); scheduler_s.run(circuit); ser = time.time() - start\n",
    "print(f\"parallel {par:.3f}s vs serial {ser:.3f}s\")\n"
   ]
  }
 ],
 "metadata": {
  "kernelspec": {
   "display_name": "Python 3",
   "language": "python",
   "name": "python3"
  },
  "language_info": {
   "name": "python"
  }
 },
 "nbformat": 4,
 "nbformat_minor": 5
}
