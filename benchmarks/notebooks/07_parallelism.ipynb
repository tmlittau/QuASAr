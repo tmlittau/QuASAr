{
 "cells": [
  {
   "cell_type": "markdown",
   "id": "5e34842b",
   "metadata": {},
   "source": [
    "# Parallelism Benchmarks\n",
    "This notebook illustrates the effect of enabling scheduler parallel execution across backends."
   ]
  },
  {
   "cell_type": "code",
   "execution_count": null,
   "id": "beb97945",
   "metadata": {},
   "outputs": [],
   "source": [
    "from quasar import Circuit, Scheduler\n",
    "from quasar.cost import Backend\n",
    "from quasar.planner import Planner\n",
    "import time\n",
    "\n",
    "circuit = Circuit([\n",
    "    {\"gate\": \"T\", \"qubits\": [0]},\n",
    "    {\"gate\": \"T\", \"qubits\": [1]},\n",
    "    {\"gate\": \"H\", \"qubits\": [0]},\n",
    "    {\"gate\": \"H\", \"qubits\": [1]},\n",
    "])\n",
    "\n",
    "class SleepBackend:\n",
    "    def load(self, n):\n",
    "        pass\n",
    "    def apply_gate(self, gate, qubits, params):\n",
    "        time.sleep(0.05)\n",
    "    def extract_ssd(self):\n",
    "        return None\n",
    "\n",
    "scheduler_p = Scheduler(\n",
    "    backends={Backend.DECISION_DIAGRAM: SleepBackend()},\n",
    "    planner=Planner(),\n",
    "    quick_max_qubits=None,\n",
    "    quick_max_gates=None,\n",
    "    quick_max_depth=None,\n",
    "    parallel_backends=[Backend.DECISION_DIAGRAM],\n",
    ")\n",
    "start = time.time(); scheduler_p.run(circuit); par = time.time() - start\n",
    "\n",
    "scheduler_s = Scheduler(\n",
    "    backends={Backend.DECISION_DIAGRAM: SleepBackend()},\n",
    "    planner=Planner(),\n",
    "    quick_max_qubits=None,\n",
    "    quick_max_gates=None,\n",
    "    quick_max_depth=None,\n",
    "    parallel_backends=[],\n",
    ")\n",
    "start = time.time(); scheduler_s.run(circuit); ser = time.time() - start\n",
    "print(f\"parallel {par:.3f}s vs serial {ser:.3f}s\")\n"
   ]
  },
  {
   "cell_type": "code",
   "execution_count": null,
   "id": "b75c6266",
   "metadata": {},
   "outputs": [],
   "source": [
    "\n",
    "# Record parameters and results\n",
    "import json, pathlib\n",
    "try:\n",
    "    import ipynbname\n",
    "    nb_name = ipynbname.path().stem\n",
    "except Exception:  # pragma: no cover\n",
    "    nb_name = 'notebook'\n",
    "\n",
    "# Collect simple parameters from globals\n",
    "_params = {\n",
    "    k: v for k, v in globals().items()\n",
    "    if not k.startswith('_') and isinstance(v, (int, float, str, bool, list, dict, tuple))\n",
    "}\n",
    "pathlib.Path('../results').mkdir(exist_ok=True)\n",
    "with open(f\"../results/{nb_name}_params.json\", 'w') as f:\n",
    "    json.dump(_params, f, indent=2)\n",
    "if 'results' in globals():\n",
    "    try:\n",
    "        with open(f\"../results/{nb_name}_results.json\", 'w') as f:\n",
    "            json.dump(results, f, indent=2)\n",
    "    except TypeError:\n",
    "        pass\n",
    "print(json.dumps(_params, indent=2))\n"
   ]
  }
 ],
 "metadata": {
  "kernelspec": {
   "display_name": "Python 3",
   "language": "python",
   "name": "python3"
  },
  "language_info": {
   "name": "python"
  }
 },
 "nbformat": 4,
 "nbformat_minor": 5
}