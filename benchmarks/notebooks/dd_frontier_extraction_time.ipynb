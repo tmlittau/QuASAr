{
 "cells": [
  {
   "cell_type": "markdown",
   "metadata": {},
   "source": [
    "# Decision diagram frontier extraction time\n",
    "\n",
    "Measure how the time to convert a decision diagram boundary to a dense statevector scales with frontier size."
   ]
  },
  {
   "cell_type": "code",
   "execution_count": null,
   "metadata": {},
   "outputs": [],
   "source": [
    "import time\n",
    "import quasar_convert as qc\n",
    "import matplotlib.pyplot as plt\n",
    "\n",
    "def measure_time(frontier: int, repeats: int = 5) -> float:\n",
    "    eng = qc.ConversionEngine()\n",
    "    ssd = qc.SSD()\n",
    "    ssd.boundary_qubits = list(range(frontier))\n",
    "    start = time.perf_counter()\n",
    "    for _ in range(repeats):\n",
    "        eng.convert_boundary_to_statevector(ssd)\n",
    "    return time.perf_counter() - start\n",
    "\n",
    "frontiers = [4, 6, 8, 10, 12]\n",
    "times = [measure_time(f) for f in frontiers]\n",
    "\n",
    "plt.plot(frontiers, times, marker='o')\n",
    "plt.xlabel('Frontier size (qubits)')\n",
    "plt.ylabel('Extraction time (s)')\n",
    "plt.title('Decision diagram frontier extraction time')\n",
    "plt.show()\n",
    "times\n"
   ]
  }
 ],
 "metadata": {
  "kernelspec": {
   "display_name": "Python 3",
   "language": "python",
   "name": "python3"
  },
  "language_info": {
   "name": "python",
   "version": "3.12"
  }
 },
 "nbformat": 4,
 "nbformat_minor": 5
}
