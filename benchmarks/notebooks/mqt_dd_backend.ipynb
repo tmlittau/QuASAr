{
 "cells": [
  {
   "cell_type": "markdown",
   "id": "a4822faa",
   "metadata": {},
   "source": [
    "# MQT Decision Diagram backend benchmark\n",
    "\n",
    "This notebook runs a small selection of example circuits solely on the `MQT Decision Diagram` simulator. It demonstrates how to use `BenchmarkRunner` for collecting timing and memory metrics. Extend the `circuits_to_run` list or adjust parameters to analyze additional workloads.\n"
   ]
  },
  {
   "cell_type": "code",
   "execution_count": null,
   "id": "214ffc01",
   "metadata": {},
   "outputs": [],
   "source": [
    "from benchmarks.backends import DecisionDiagramAdapter\n",
    "from benchmarks.runner import BenchmarkRunner\n",
    "from benchmarks import circuits\n",
    "import pandas as pd"
   ]
  },
  {
   "cell_type": "code",
   "execution_count": null,
   "id": "d021b28d",
   "metadata": {},
   "outputs": [],
   "source": [
    "# Select representative circuits\n",
    "circuits_to_run = [\n",
    "    (\"GHZ\", circuits.ghz_circuit(5)),\n",
    "    (\"QFT\", circuits.qft_circuit(5)),\n",
    "    (\"Grover\", circuits.grover_circuit(5, 1)),\n",
    "]\n",
    "\n",
    "runner = BenchmarkRunner()\n",
    "backend = DecisionDiagramAdapter()\n",
    "for name, circ in circuits_to_run:\n",
    "    res = runner.run(circ, backend, return_state=False)\n",
    "    res[\"circuit\"] = name\n",
    "\n",
    "df = runner.dataframe()\n",
    "df[[\"circuit\", \"prepare_time\", \"run_time\", \"prepare_peak_memory\", \"run_peak_memory\"]]\n"
   ]
  }
 ],
 "metadata": {},
 "nbformat": 4,
 "nbformat_minor": 5
}
