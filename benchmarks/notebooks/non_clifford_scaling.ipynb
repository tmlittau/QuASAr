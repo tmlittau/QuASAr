{
 "cells": [
  {
   "cell_type": "markdown",
   "id": "7548b75f",
   "metadata": {},
   "source": [
    "# Non-Clifford and Error-Corrected Scaling Benchmark"
   ]
  },
  {
   "cell_type": "code",
   "execution_count": null,
   "id": "8cc6f30e",
   "metadata": {},
   "outputs": [],
   "source": [
    "\n",
    "from benchmarks.runner import BenchmarkRunner\n",
    "from quasar.simulation_engine import SimulationEngine\n",
    "from quasar.cost import Backend\n",
    "from benchmarks.circuits import random_hybrid_circuit, surface_corrected_qaoa_circuit\n",
    "from benchmarks.memory_utils import max_qubits_statevector\n",
    "from benchmarks.plot_utils import plot_quasar_vs_baseline_best\n",
    "from pathlib import Path\n",
    "import pandas as pd\n",
    "import json\n"
   ]
  },
  {
   "cell_type": "code",
   "execution_count": null,
   "id": "0d886063",
   "metadata": {},
   "outputs": [],
   "source": [
    "\n",
    "# Define circuits and qubit sizes\n",
    "circuits = {\n",
    "    'random_hybrid': random_hybrid_circuit,\n",
    "    'surface_corrected_qaoa': lambda n: surface_corrected_qaoa_circuit(bit_width=n, distance=3, rounds=1),\n",
    "}\n",
    "qubit_range = [8, 16, 32, 48, 64]\n",
    "sv_cap = max_qubits_statevector()\n",
    "print(f'Statevector cap: {sv_cap} qubits')\n"
   ]
  },
  {
   "cell_type": "code",
   "execution_count": null,
   "id": "0dab4ee9",
   "metadata": {},
   "outputs": [],
   "source": [
    "\n",
    "# Benchmark execution\n",
    "runner = BenchmarkRunner()\n",
    "engine = SimulationEngine()\n",
    "records = []\n",
    "forced_backends = [Backend.STATEVECTOR, Backend.MPS, Backend.DECISION_DIAGRAM]\n",
    "for name, build in circuits.items():\n",
    "    for n in qubit_range:\n",
    "        circ = build(n)\n",
    "        # Automatic QuASAr\n",
    "        rec_auto = runner.run_quasar_multiple(circ, engine, repetitions=3, quick=True)\n",
    "        rec_auto.update({'circuit': name, 'qubits': n, 'framework': 'quasar'})\n",
    "        records.append(rec_auto)\n",
    "        # Baselines\n",
    "        for b in forced_backends:\n",
    "            if b is Backend.STATEVECTOR and n > sv_cap:\n",
    "                continue\n",
    "            rec = runner.run_quasar_multiple(circ, engine, backend=b, repetitions=3, quick=True)\n",
    "            rec.update({'circuit': name, 'qubits': n, 'framework': b.name})\n",
    "            records.append(rec)\n",
    "\n",
    "df = pd.DataFrame(records)\n",
    "results_dir = Path('../results')\n",
    "results_dir.mkdir(exist_ok=True, parents=True)\n",
    "res_path = results_dir / 'non_clifford_scaling_results.json'\n",
    "df.drop(columns=['result'], errors='ignore').to_json(res_path, orient='records')\n",
    "df\n"
   ]
  },
  {
   "cell_type": "code",
   "execution_count": null,
   "id": "a47f31f7",
   "metadata": {},
   "outputs": [],
   "source": [
    "\n",
    "# Plot runtime comparison\n",
    "import matplotlib.pyplot as plt\n",
    "fig, ax = plt.subplots(figsize=(6,4))\n",
    "plot_quasar_vs_baseline_best(df, annotate_backend=True, ax=ax)\n",
    "fig_path = Path('../figures/non_clifford_scaling_runtime.png')\n",
    "fig.savefig(fig_path, dpi=150, bbox_inches='tight')\n",
    "fig_path\n"
   ]
  },
  {
   "cell_type": "code",
   "execution_count": null,
   "id": "a6adea83",
   "metadata": {},
   "outputs": [],
   "source": [
    "\n",
    "# Log hardware specs and parameters\n",
    "meta = {\n",
    "    'hardware': {\n",
    "        'cpu': 'Intel i9 13900K',\n",
    "        'memory_gb': 64,\n",
    "    },\n",
    "    'qubit_range': qubit_range,\n",
    "    'circuits': list(circuits.keys()),\n",
    "}\n",
    "meta_path = results_dir / 'non_clifford_scaling_meta.json'\n",
    "meta_path.write_text(json.dumps(meta, indent=2))\n",
    "meta\n"
   ]
  }
 ],
 "metadata": {},
 "nbformat": 4,
 "nbformat_minor": 5
}
