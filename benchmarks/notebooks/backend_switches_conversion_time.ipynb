{
 "cells": [
  {
   "cell_type": "markdown",
   "metadata": {},
   "source": [
    "# Backend switches and conversion time\n",
    "\n",
    "Measure backend switch counts and total conversion time for a circuit requiring backend changes."
   ]
  },
  {
   "cell_type": "code",
   "execution_count": null,
   "metadata": {},
   "outputs": [],
   "source": [
    "import pandas as pd\n",
    "from quasar.circuit import Circuit, Gate\n",
    "from quasar.simulation_engine import SimulationEngine\n",
    "from quasar.cost import Backend\n",
    "from quasar.planner import PlanResult, PlanStep\n",
    "\n",
    "def measure_switches_conversion_time() -> pd.DataFrame:\n",
    "    circuit = Circuit([Gate(\"H\", [0]), Gate(\"T\", [0]), Gate(\"H\", [0])])\n",
    "    steps = [\n",
    "        PlanStep(0, 1, Backend.TABLEAU),\n",
    "        PlanStep(1, 2, Backend.MPS),\n",
    "        PlanStep(2, 3, Backend.TABLEAU),\n",
    "    ]\n",
    "    plan = PlanResult(table=[], final_backend=None, gates=circuit.gates, explicit_steps=steps)\n",
    "    plan.explicit_conversions = []\n",
    "    engine = SimulationEngine()\n",
    "    engine.scheduler.run(circuit, plan, instrument=True)\n",
    "    _, metrics = engine.scheduler.run(circuit, plan, instrument=True)\n",
    "    return pd.DataFrame([\n",
    "        {\n",
    "            \"backend_switches\": metrics.backend_switches,\n",
    "            \"conversion_time\": sum(metrics.conversion_durations),\n",
    "        }\n",
    "    ])\n",
    "\n",
    "measure_switches_conversion_time()"
   ]
  }
 ],
 "metadata": {
  "kernelspec": {
   "display_name": "Python 3",
   "language": "python",
   "name": "python3"
  },
  "language_info": {
   "name": "python"
  }
 },
 "nbformat": 4,
 "nbformat_minor": 5
}
