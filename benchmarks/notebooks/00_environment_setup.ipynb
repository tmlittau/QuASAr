{
 "cells": [
  {
   "cell_type": "markdown",
   "metadata": {},
   "source": [
    "# Environment Setup\n",
    "\n",
    "This notebook captures system information for benchmarking and saves it to `environment.json`.\n"
   ]
  },
  {
   "cell_type": "code",
   "execution_count": null,
   "metadata": {},
   "outputs": [],
   "source": [
    "import json, platform, subprocess, psutil, numpy as np\n",
    "from pathlib import Path\n",
    "\n",
    "info = {}\n",
    "info['cpu_model'] = next((l.split(':',1)[1].strip() for l in open('/proc/cpuinfo') if 'model name' in l), platform.processor())\n",
    "info['cpu_count'] = psutil.cpu_count()\n",
    "info['ram_gb'] = round(psutil.virtual_memory().total / 1024**3, 2)\n",
    "info['os'] = platform.platform()\n",
    "info['python_version'] = platform.python_version()\n",
    "info['blas_libraries'] = np.__config__.get_info('blas_opt_info').get('libraries', [])\n",
    "info['lapack_libraries'] = np.__config__.get_info('lapack_opt_info').get('libraries', [])\n",
    "import stim, mqt.ddsim, mqt.core\n",
    "info['stim_version'] = getattr(stim, '__version__', None)\n",
    "info['mqt_dd_version'] = getattr(mqt.ddsim, '__version__', None)\n",
    "info['mqt_core_version'] = getattr(mqt.core, '__version__', None)\n",
    "try:\n",
    "    import pybind11\n",
    "    info['pybind11_version'] = pybind11.__version__\n",
    "except Exception:\n",
    "    info['pybind11_version'] = None\n",
    "info['quasar_commit'] = subprocess.check_output(['git','rev-parse','HEAD']).decode().strip()\n",
    "def run_cmd(cmd):\n",
    "    try:\n",
    "        return subprocess.check_output(cmd, text=True).splitlines()[0]\n",
    "    except Exception:\n",
    "        return None\n",
    "info['compiler'] = run_cmd(['cc','--version']) or run_cmd(['gcc','--version'])\n",
    "info['cmake_version'] = run_cmd(['cmake','--version'])\n",
    "Path('environment.json').write_text(json.dumps(info, indent=2))\n",
    "info\n"
   ]
  },
  {
   "cell_type": "markdown",
   "metadata": {},
   "source": [
    "Environment information saved to `environment.json`.\n"
   ]
  }
 ],
 "metadata": {},
 "nbformat": 4,
 "nbformat_minor": 5
}