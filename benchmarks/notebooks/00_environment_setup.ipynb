{
 "cells": [
  {
   "cell_type": "markdown",
   "id": "4929b713",
   "metadata": {},
   "source": [
    "# Environment Setup\n",
    "\n",
    "This notebook captures system information for benchmarking and saves it to `environment.json`.\n"
   ]
  },
  {
   "cell_type": "code",
   "execution_count": 1,
   "id": "b27a5f69",
   "metadata": {
    "execution": {
     "iopub.execute_input": "2025-09-06T09:00:06.353964Z",
     "iopub.status.busy": "2025-09-06T09:00:06.353631Z",
     "iopub.status.idle": "2025-09-06T09:00:06.862293Z",
     "shell.execute_reply": "2025-09-06T09:00:06.861468Z"
    }
   },
   "outputs": [
    {
     "data": {
      "text/plain": [
       "{'cpu_model': 'Intel(R) Xeon(R) Platinum 8370C CPU @ 2.80GHz',\n",
       " 'cpu_count': 5,\n",
       " 'ram_gb': 9.93,\n",
       " 'os': 'Linux-6.12.13-x86_64-with-glibc2.39',\n",
       " 'python_version': '3.12.10',\n",
       " 'blas_libraries': [],\n",
       " 'lapack_libraries': [],\n",
       " 'stim_version': '1.15.0',\n",
       " 'mqt_dd_version': '2.0.0',\n",
       " 'mqt_core_version': '3.2.1',\n",
       " 'pybind11_version': None,\n",
       " 'quasar_commit': '3dfe9c4e4934095b6c80ea6d77d2f422211de9ac',\n",
       " 'compiler': 'cc (Ubuntu 13.3.0-6ubuntu2~24.04) 13.3.0',\n",
       " 'cmake_version': 'cmake version 3.28.3',\n",
       " 'QUASAR_QUICK_MAX_QUBITS': None,\n",
       " 'QUASAR_QUICK_MAX_GATES': None,\n",
       " 'QUASAR_QUICK_MAX_DEPTH': None,\n",
       " 'QUASAR_MPS_TARGET_FIDELITY': None}"
      ]
     },
     "execution_count": 1,
     "metadata": {},
     "output_type": "execute_result"
    }
   ],
   "source": [
    "import json, platform, subprocess, psutil, numpy as np, os\n",
    "from pathlib import Path\n",
    "\n",
    "info = {}\n",
    "info['cpu_model'] = next((l.split(':',1)[1].strip() for l in open('/proc/cpuinfo') if 'model name' in l), platform.processor())\n",
    "info['cpu_count'] = psutil.cpu_count()\n",
    "info['ram_gb'] = round(psutil.virtual_memory().total / 1024**3, 2)\n",
    "info['os'] = platform.platform()\n",
    "info['python_version'] = platform.python_version()\n",
    "info['blas_libraries'] = getattr(np.__config__, 'blas_opt_info', {}).get('libraries', [])\n",
    "info['lapack_libraries'] = getattr(np.__config__, 'lapack_opt_info', {}).get('libraries', [])\n",
    "import stim, mqt.ddsim, mqt.core\n",
    "info['stim_version'] = getattr(stim, '__version__', None)\n",
    "info['mqt_dd_version'] = getattr(mqt.ddsim, '__version__', None)\n",
    "info['mqt_core_version'] = getattr(mqt.core, '__version__', None)\n",
    "try:\n",
    "    import pybind11\n",
    "    info['pybind11_version'] = pybind11.__version__\n",
    "except Exception:\n",
    "    info['pybind11_version'] = None\n",
    "info['quasar_commit'] = subprocess.check_output(['git','rev-parse','HEAD']).decode().strip()\n",
    "def run_cmd(cmd):\n",
    "    try:\n",
    "        return subprocess.check_output(cmd, text=True).splitlines()[0]\n",
    "    except Exception:\n",
    "        return None\n",
    "info['compiler'] = run_cmd(['cc','--version']) or run_cmd(['gcc','--version'])\n",
    "info['cmake_version'] = run_cmd(['cmake','--version'])\n",
    "info['QUASAR_QUICK_MAX_QUBITS'] = os.getenv('QUASAR_QUICK_MAX_QUBITS')\n",
    "info['QUASAR_QUICK_MAX_GATES'] = os.getenv('QUASAR_QUICK_MAX_GATES')\n",
    "info['QUASAR_QUICK_MAX_DEPTH'] = os.getenv('QUASAR_QUICK_MAX_DEPTH')\n",
    "info['QUASAR_MPS_TARGET_FIDELITY'] = os.getenv('QUASAR_MPS_TARGET_FIDELITY')\n",
    "Path('environment.json').write_text(json.dumps(info, indent=2))\n",
    "info\n"
   ]
  },
  {
   "cell_type": "markdown",
   "id": "05b4c113",
   "metadata": {},
   "source": [
    "Environment information saved to `environment.json`.\n"
   ]
  },
  {
   "cell_type": "markdown",
   "id": "1dc2b3a4",
   "metadata": {},
   "source": [
    "## Benchmark Circuits\n",
    "\n",
    "The table below lists benchmark circuits used in QuASAr."
   ]
  },
  {
   "cell_type": "code",
   "execution_count": 2,
   "id": "1866aa7a",
   "metadata": {
    "execution": {
     "iopub.execute_input": "2025-09-06T09:00:06.864701Z",
     "iopub.status.busy": "2025-09-06T09:00:06.864428Z",
     "iopub.status.idle": "2025-09-06T09:00:06.870122Z",
     "shell.execute_reply": "2025-09-06T09:00:06.869575Z"
    }
   },
   "outputs": [
    {
     "ename": "SyntaxError",
     "evalue": "unterminated string literal (detected at line 30) (744733715.py, line 30)",
     "output_type": "error",
     "traceback": [
      "  \u001b[36mCell\u001b[39m\u001b[36m \u001b[39m\u001b[32mIn[2]\u001b[39m\u001b[32m, line 30\u001b[39m\n\u001b[31m    \u001b[39m\u001b[31mMarkdown(\"\u001b[39m\n             ^\n\u001b[31mSyntaxError\u001b[39m\u001b[31m:\u001b[39m unterminated string literal (detected at line 30)\n"
     ]
    }
   ],
   "source": [
    "from benchmarks.circuits import (\n",
    "    clifford_ec_circuit,\n",
    "    ripple_add_circuit,\n",
    "    vqe_chain_circuit,\n",
    "    random_hybrid_circuit,\n",
    "    recur_subroutine_circuit,\n",
    ")\n",
    "import inspect\n",
    "from pathlib import Path\n",
    "from IPython.display import Markdown\n",
    "\n",
    "\n",
    "def src_link(func):\n",
    "    file = Path(inspect.getsourcefile(func)).relative_to(Path.cwd())\n",
    "    line = inspect.getsourcelines(func)[1]\n",
    "    return f\"[generator]({file}#L{line})\"\n",
    "\n",
    "circuits = [\n",
    "    (\"Clifford-EC\", clifford_ec_circuit, \"3-qubit bit-flip error correction\"),\n",
    "    (\"Ripple-Add\", ripple_add_circuit, \"Ripple-carry adder for two 4-bit registers\"),\n",
    "    (\"VQE-Chain\", vqe_chain_circuit, \"VQE ansatz with linear entanglement chain\"),\n",
    "    (\"Random-Hybrid\", random_hybrid_circuit, \"Random mix of Clifford and T gates\"),\n",
    "    (\"Recur-Subroutine\", recur_subroutine_circuit, \"Circuit with repeated subroutine layers\"),\n",
    "]\n",
    "\n",
    "rows = [\"| Circuit | Qubits | Gates | Description | Source |\", \"|---|---|---|---|---|\"]\n",
    "for name, fn, desc in circuits:\n",
    "    circ = fn()\n",
    "    rows.append(f\"| {name} | {circ.num_qubits} | {circ.num_gates} | {desc} | {src_link(fn)} |\")\n",
    "Markdown(\"\n",
    "\".join(rows))\n"
   ]
  },
  {
   "cell_type": "code",
   "execution_count": 3,
   "id": "a2bc0180",
   "metadata": {
    "execution": {
     "iopub.execute_input": "2025-09-06T09:00:06.872058Z",
     "iopub.status.busy": "2025-09-06T09:00:06.871876Z",
     "iopub.status.idle": "2025-09-06T09:00:06.878053Z",
     "shell.execute_reply": "2025-09-06T09:00:06.877487Z"
    }
   },
   "outputs": [
    {
     "name": "stdout",
     "output_type": "stream",
     "text": [
      "{\n",
      "  \"In\": [\n",
      "    \"\",\n",
      "    \"import json, platform, subprocess, psutil, numpy as np, os\\nfrom pathlib import Path\\n\\ninfo = {}\\ninfo['cpu_model'] = next((l.split(':',1)[1].strip() for l in open('/proc/cpuinfo') if 'model name' in l), platform.processor())\\ninfo['cpu_count'] = psutil.cpu_count()\\ninfo['ram_gb'] = round(psutil.virtual_memory().total / 1024**3, 2)\\ninfo['os'] = platform.platform()\\ninfo['python_version'] = platform.python_version()\\ninfo['blas_libraries'] = getattr(np.__config__, 'blas_opt_info', {}).get('libraries', [])\\ninfo['lapack_libraries'] = getattr(np.__config__, 'lapack_opt_info', {}).get('libraries', [])\\nimport stim, mqt.ddsim, mqt.core\\ninfo['stim_version'] = getattr(stim, '__version__', None)\\ninfo['mqt_dd_version'] = getattr(mqt.ddsim, '__version__', None)\\ninfo['mqt_core_version'] = getattr(mqt.core, '__version__', None)\\ntry:\\n    import pybind11\\n    info['pybind11_version'] = pybind11.__version__\\nexcept Exception:\\n    info['pybind11_version'] = None\\ninfo['quasar_commit'] = subprocess.check_output(['git','rev-parse','HEAD']).decode().strip()\\ndef run_cmd(cmd):\\n    try:\\n        return subprocess.check_output(cmd, text=True).splitlines()[0]\\n    except Exception:\\n        return None\\ninfo['compiler'] = run_cmd(['cc','--version']) or run_cmd(['gcc','--version'])\\ninfo['cmake_version'] = run_cmd(['cmake','--version'])\\ninfo['QUASAR_QUICK_MAX_QUBITS'] = os.getenv('QUASAR_QUICK_MAX_QUBITS')\\ninfo['QUASAR_QUICK_MAX_GATES'] = os.getenv('QUASAR_QUICK_MAX_GATES')\\ninfo['QUASAR_QUICK_MAX_DEPTH'] = os.getenv('QUASAR_QUICK_MAX_DEPTH')\\ninfo['QUASAR_MPS_TARGET_FIDELITY'] = os.getenv('QUASAR_MPS_TARGET_FIDELITY')\\nPath('environment.json').write_text(json.dumps(info, indent=2))\\ninfo\",\n",
      "    \"from benchmarks.circuits import (\\n    clifford_ec_circuit,\\n    ripple_add_circuit,\\n    vqe_chain_circuit,\\n    random_hybrid_circuit,\\n    recur_subroutine_circuit,\\n)\\nimport inspect\\nfrom pathlib import Path\\nfrom IPython.display import Markdown\\n\\n\\ndef src_link(func):\\n    file = Path(inspect.getsourcefile(func)).relative_to(Path.cwd())\\n    line = inspect.getsourcelines(func)[1]\\n    return f\\\"[generator]({file}#L{line})\\\"\\n\\ncircuits = [\\n    (\\\"Clifford-EC\\\", clifford_ec_circuit, \\\"3-qubit bit-flip error correction\\\"),\\n    (\\\"Ripple-Add\\\", ripple_add_circuit, \\\"Ripple-carry adder for two 4-bit registers\\\"),\\n    (\\\"VQE-Chain\\\", vqe_chain_circuit, \\\"VQE ansatz with linear entanglement chain\\\"),\\n    (\\\"Random-Hybrid\\\", random_hybrid_circuit, \\\"Random mix of Clifford and T gates\\\"),\\n    (\\\"Recur-Subroutine\\\", recur_subroutine_circuit, \\\"Circuit with repeated subroutine layers\\\"),\\n]\\n\\nrows = [\\\"| Circuit | Qubits | Gates | Description | Source |\\\", \\\"|---|---|---|---|---|\\\"]\\nfor name, fn, desc in circuits:\\n    circ = fn()\\n    rows.append(f\\\"| {name} | {circ.num_qubits} | {circ.num_gates} | {desc} | {src_link(fn)} |\\\")\\nMarkdown(\\\"\\n\\\".join(rows))\",\n",
      "    \"# Record parameters and results\\nimport json, pathlib\\ntry:\\n    import ipynbname\\n    nb_name = ipynbname.path().stem\\nexcept Exception:  # pragma: no cover\\n    nb_name = 'notebook'\\n\\n# Collect simple parameters from globals\\n_params = {\\n    k: v for k, v in globals().items()\\n    if not k.startswith('_') and isinstance(v, (int, float, str, bool, list, dict, tuple))\\n}\\npathlib.Path('../results').mkdir(exist_ok=True)\\nwith open(f\\\"../results/{nb_name}_params.json\\\", 'w') as f:\\n    json.dump(_params, f, indent=2)\\nif 'results' in globals():\\n    try:\\n        with open(f\\\"../results/{nb_name}_results.json\\\", 'w') as f:\\n            json.dump(results, f, indent=2)\\n    except TypeError:\\n        pass\\nprint(json.dumps(_params, indent=2))\"\n",
      "  ],\n",
      "  \"Out\": {\n",
      "    \"1\": {\n",
      "      \"cpu_model\": \"Intel(R) Xeon(R) Platinum 8370C CPU @ 2.80GHz\",\n",
      "      \"cpu_count\": 5,\n",
      "      \"ram_gb\": 9.93,\n",
      "      \"os\": \"Linux-6.12.13-x86_64-with-glibc2.39\",\n",
      "      \"python_version\": \"3.12.10\",\n",
      "      \"blas_libraries\": [],\n",
      "      \"lapack_libraries\": [],\n",
      "      \"stim_version\": \"1.15.0\",\n",
      "      \"mqt_dd_version\": \"2.0.0\",\n",
      "      \"mqt_core_version\": \"3.2.1\",\n",
      "      \"pybind11_version\": null,\n",
      "      \"quasar_commit\": \"3dfe9c4e4934095b6c80ea6d77d2f422211de9ac\",\n",
      "      \"compiler\": \"cc (Ubuntu 13.3.0-6ubuntu2~24.04) 13.3.0\",\n",
      "      \"cmake_version\": \"cmake version 3.28.3\",\n",
      "      \"QUASAR_QUICK_MAX_QUBITS\": null,\n",
      "      \"QUASAR_QUICK_MAX_GATES\": null,\n",
      "      \"QUASAR_QUICK_MAX_DEPTH\": null,\n",
      "      \"QUASAR_MPS_TARGET_FIDELITY\": null\n",
      "    }\n",
      "  },\n",
      "  \"info\": {\n",
      "    \"cpu_model\": \"Intel(R) Xeon(R) Platinum 8370C CPU @ 2.80GHz\",\n",
      "    \"cpu_count\": 5,\n",
      "    \"ram_gb\": 9.93,\n",
      "    \"os\": \"Linux-6.12.13-x86_64-with-glibc2.39\",\n",
      "    \"python_version\": \"3.12.10\",\n",
      "    \"blas_libraries\": [],\n",
      "    \"lapack_libraries\": [],\n",
      "    \"stim_version\": \"1.15.0\",\n",
      "    \"mqt_dd_version\": \"2.0.0\",\n",
      "    \"mqt_core_version\": \"3.2.1\",\n",
      "    \"pybind11_version\": null,\n",
      "    \"quasar_commit\": \"3dfe9c4e4934095b6c80ea6d77d2f422211de9ac\",\n",
      "    \"compiler\": \"cc (Ubuntu 13.3.0-6ubuntu2~24.04) 13.3.0\",\n",
      "    \"cmake_version\": \"cmake version 3.28.3\",\n",
      "    \"QUASAR_QUICK_MAX_QUBITS\": null,\n",
      "    \"QUASAR_QUICK_MAX_GATES\": null,\n",
      "    \"QUASAR_QUICK_MAX_DEPTH\": null,\n",
      "    \"QUASAR_MPS_TARGET_FIDELITY\": null\n",
      "  },\n",
      "  \"nb_name\": \"notebook\"\n",
      "}\n"
     ]
    }
   ],
   "source": [
    "\n",
    "# Record parameters and results\n",
    "import json, pathlib\n",
    "try:\n",
    "    import ipynbname\n",
    "    nb_name = ipynbname.path().stem\n",
    "except Exception:  # pragma: no cover\n",
    "    nb_name = 'notebook'\n",
    "\n",
    "# Collect simple parameters from globals\n",
    "_params = {\n",
    "    k: v for k, v in globals().items()\n",
    "    if not k.startswith('_') and isinstance(v, (int, float, str, bool, list, dict, tuple))\n",
    "}\n",
    "pathlib.Path('../results').mkdir(exist_ok=True)\n",
    "with open(f\"../results/{nb_name}_params.json\", 'w') as f:\n",
    "    json.dump(_params, f, indent=2)\n",
    "if 'results' in globals():\n",
    "    try:\n",
    "        with open(f\"../results/{nb_name}_results.json\", 'w') as f:\n",
    "            json.dump(results, f, indent=2)\n",
    "    except TypeError:\n",
    "        pass\n",
    "print(json.dumps(_params, indent=2))\n"
   ]
  }
 ],
 "metadata": {
  "language_info": {
   "codemirror_mode": {
    "name": "ipython",
    "version": 3
   },
   "file_extension": ".py",
   "mimetype": "text/x-python",
   "name": "python",
   "nbconvert_exporter": "python",
   "pygments_lexer": "ipython3",
   "version": "3.12.10"
  }
 },
 "nbformat": 4,
 "nbformat_minor": 5
}
