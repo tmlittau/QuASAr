{
 "cells": [
  {
   "cell_type": "markdown",
   "id": "4929b713",
   "metadata": {},
   "source": [
    "# Environment Setup\n",
    "\n",
    "This notebook captures system information for benchmarking and saves it to `environment.json`.\n"
   ]
  },
  {
   "cell_type": "code",
   "execution_count": null,
   "id": "b27a5f69",
   "metadata": {},
   "outputs": [],
   "source": [
    "import json, platform, subprocess, psutil, numpy as np\n",
    "from pathlib import Path\n",
    "\n",
    "info = {}\n",
    "info['cpu_model'] = next((l.split(':',1)[1].strip() for l in open('/proc/cpuinfo') if 'model name' in l), platform.processor())\n",
    "info['cpu_count'] = psutil.cpu_count()\n",
    "info['ram_gb'] = round(psutil.virtual_memory().total / 1024**3, 2)\n",
    "info['os'] = platform.platform()\n",
    "info['python_version'] = platform.python_version()\n",
    "info['blas_libraries'] = np.__config__.get_info('blas_opt_info').get('libraries', [])\n",
    "info['lapack_libraries'] = np.__config__.get_info('lapack_opt_info').get('libraries', [])\n",
    "import stim, mqt.ddsim, mqt.core\n",
    "info['stim_version'] = getattr(stim, '__version__', None)\n",
    "info['mqt_dd_version'] = getattr(mqt.ddsim, '__version__', None)\n",
    "info['mqt_core_version'] = getattr(mqt.core, '__version__', None)\n",
    "try:\n",
    "    import pybind11\n",
    "    info['pybind11_version'] = pybind11.__version__\n",
    "except Exception:\n",
    "    info['pybind11_version'] = None\n",
    "info['quasar_commit'] = subprocess.check_output(['git','rev-parse','HEAD']).decode().strip()\n",
    "def run_cmd(cmd):\n",
    "    try:\n",
    "        return subprocess.check_output(cmd, text=True).splitlines()[0]\n",
    "    except Exception:\n",
    "        return None\n",
    "info['compiler'] = run_cmd(['cc','--version']) or run_cmd(['gcc','--version'])\n",
    "info['cmake_version'] = run_cmd(['cmake','--version'])\n",
    "Path('environment.json').write_text(json.dumps(info, indent=2))\n",
    "info\n"
   ]
  },
  {
   "cell_type": "markdown",
   "id": "05b4c113",
   "metadata": {},
   "source": [
    "Environment information saved to `environment.json`.\n"
   ]
  },
  {
   "cell_type": "markdown",
   "id": "1dc2b3a4",
   "metadata": {},
   "source": [
    "## Benchmark Circuits\n",
    "\n",
    "The table below lists benchmark circuits used in QuASAr."
   ]
  },
  {
   "cell_type": "code",
   "execution_count": null,
   "id": "1866aa7a",
   "metadata": {},
   "outputs": [],
   "source": [
    "from benchmarks.circuits import (\n",
    "    clifford_ec_circuit,\n",
    "    ripple_add_circuit,\n",
    "    vqe_chain_circuit,\n",
    "    random_hybrid_circuit,\n",
    "    recur_subroutine_circuit,\n",
    ")\n",
    "import inspect\n",
    "from pathlib import Path\n",
    "from IPython.display import Markdown\n",
    "\n",
    "\n",
    "def src_link(func):\n",
    "    file = Path(inspect.getsourcefile(func)).relative_to(Path.cwd())\n",
    "    line = inspect.getsourcelines(func)[1]\n",
    "    return f\"[generator]({file}#L{line})\"\n",
    "\n",
    "circuits = [\n",
    "    (\"Clifford-EC\", clifford_ec_circuit, \"3-qubit bit-flip error correction\"),\n",
    "    (\"Ripple-Add\", ripple_add_circuit, \"Ripple-carry adder for two 4-bit registers\"),\n",
    "    (\"VQE-Chain\", vqe_chain_circuit, \"VQE ansatz with linear entanglement chain\"),\n",
    "    (\"Random-Hybrid\", random_hybrid_circuit, \"Random mix of Clifford and T gates\"),\n",
    "    (\"Recur-Subroutine\", recur_subroutine_circuit, \"Circuit with repeated subroutine layers\"),\n",
    "]\n",
    "\n",
    "rows = [\"| Circuit | Qubits | Gates | Description | Source |\", \"|---|---|---|---|---|\"]\n",
    "for name, fn, desc in circuits:\n",
    "    circ = fn()\n",
    "    rows.append(f\"| {name} | {circ.num_qubits} | {circ.num_gates} | {desc} | {src_link(fn)} |\")\n",
    "Markdown(\"\n",
    "\".join(rows))\n"
   ]
  }
 ],
 "metadata": {},
 "nbformat": 4,
 "nbformat_minor": 5
}
