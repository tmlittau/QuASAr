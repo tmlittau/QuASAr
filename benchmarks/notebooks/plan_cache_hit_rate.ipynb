{
 "nbformat": 4,
 "nbformat_minor": 5,
 "metadata": {
  "kernelspec": {
   "display_name": "Python 3",
   "language": "python",
   "name": "python3"
  },
  "language_info": {
   "name": "python",
   "version": "3.8"
  }
 },
 "cells": [
  {
   "id": "a692d342",
   "cell_type": "markdown",
   "source": "# Plan Cache Hit Rate\n\nEvaluate repeated circuit runs and tabulate plan cache hit rates.",
   "metadata": {}
  },
  {
   "id": "e0480eab",
   "cell_type": "code",
   "metadata": {},
   "execution_count": null,
   "source": "\nfrom benchmarks.circuits import ghz_circuit\nfrom quasar.planner import Planner\nimport pandas as pd\n\nplanner = Planner()\nrecords = []\nfor run in range(1, 6):\n    planner.plan(ghz_circuit(3))\n    records.append({\n        \"run\": run,\n        \"cache_hits\": planner.cache_hits,\n        \"hit_rate\": planner.cache_hits / run,\n    })\ndf = pd.DataFrame(records)\ndf\n",
   "outputs": []
  },
  {
   "id": "12670b4c",
   "cell_type": "code",
   "metadata": {},
   "execution_count": null,
   "source": "\n# Save parameters and results\nimport json, pathlib\ntry:\n    import ipynbname\n    nb_name = ipynbname.path().stem\nexcept Exception:  # pragma: no cover\n    nb_name = 'plan_cache_hit_rate'\nparams = {\"runs\": len(records)}\npathlib.Path('../results').mkdir(exist_ok=True)\nwith open(f\"../results/{nb_name}_results.json\", 'w') as f:\n    json.dump(records, f, indent=2, default=str)\nprint(json.dumps(params, indent=2, default=str))\n",
   "outputs": []
  }
 ]
}