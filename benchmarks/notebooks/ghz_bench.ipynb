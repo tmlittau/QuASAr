{
 "cells": [
  {
   "cell_type": "markdown",
   "id": "681d8e71",
   "metadata": {},
   "source": [
    "# GHZ Circuit Benchmark"
   ]
  },
  {
   "cell_type": "code",
   "execution_count": null,
   "id": "93c361ad-7599-4e56-9065-49edbc6c5e58",
   "metadata": {
    "execution": {
     "iopub.execute_input": "2025-08-29T12:52:59.198817Z",
     "iopub.status.busy": "2025-08-29T12:52:59.198603Z",
     "iopub.status.idle": "2025-08-29T12:53:02.320114Z",
     "shell.execute_reply": "2025-08-29T12:53:02.319336Z"
    }
   },
   "outputs": [],
   "source": [
    "import sys, pathlib\n",
    "sys.path.append(str(pathlib.Path('..').resolve().parent))\n",
    "from benchmarks.circuits import ghz_circuit\n",
    "\n",
    "from benchmarks.backends import (\n",
    "\n",
    "    StatevectorAdapter, StimAdapter, MPSAdapter,\n",
    "\n",
    "    DecisionDiagramAdapter, AerStatevectorAdapter,\n",
    "\n",
    "    AerMPSAdapter, MQTDDAdapter,\n",
    "\n",
    ")\n",
    "\n",
    "from benchmarks.runner import BenchmarkRunner\n",
    "from quasar import SimulationEngine\n",
    "import pandas as pd\n",
    "import seaborn as sns\n",
    "import matplotlib.pyplot as plt\n",
    "\n",
    "\n",
    "qubit_counts = range(2, 13, 2)\n",
    "\n",
    "backends = [StatevectorAdapter(), StimAdapter(), MPSAdapter(), DecisionDiagramAdapter()]\n",
    "\n",
    "for cls in [AerStatevectorAdapter, AerMPSAdapter, MQTDDAdapter]:\n",
    "    try:\n",
    "        backends.append(cls())\n",
    "    except Exception:\n",
    "        pass\n",
    "\n",
    "runner = BenchmarkRunner()\n",
    "engine = SimulationEngine()\n",
    "\n",
    "for n in qubit_counts:\n",
    "    circ = ghz_circuit(n)\n",
    "    plan = engine.planner.plan(circ)\n",
    "    backend = plan.steps[0].backend.name if plan.steps else None\n",
    "    print(f\"{n} qubits -> {backend}\")\n",
    "    for b in backends:\n",
    "        try:\n",
    "            rec = runner.run(circ, b)\n",
    "            rec['qubits'] = n\n",
    "            rec['selected_backend'] = None\n",
    "        except Exception:\n",
    "            continue\n",
    "    try:\n",
    "        rec = runner.run_quasar(circ, engine)\n",
    "        rec['qubits'] = n\n",
    "        rec['selected_backend'] = backend\n",
    "    except Exception:\n",
    "        runner.results.append({'framework':'quasar','time':float('nan'),'result':None,'qubits':n,'selected_backend':backend})\n",
    "\n",
    "df = pd.DataFrame(runner.results)\n",
    "print(df[df['framework']=='quasar'][['qubits','selected_backend']])\n",
    "\n",
    "sns.lineplot(data=df, x='qubits', y='time', hue='framework')\n",
    "plt.yscale('log')\n",
    "plt.show()\n"
   ]
  }
 ],
 "metadata": {
  "kernelspec": {
   "display_name": "Python 3",
   "language": "python",
   "name": "python3"
  },
  "language_info": {
   "codemirror_mode": {
    "name": "ipython",
    "version": 3
   },
   "file_extension": ".py",
   "mimetype": "text/x-python",
   "name": "python",
   "nbconvert_exporter": "python",
   "pygments_lexer": "ipython3",
   "version": "3.12.10"
  }
 },
 "nbformat": 4,
 "nbformat_minor": 5
}