{
 "cells": [
  {
   "cell_type": "markdown",
   "metadata": {},
   "source": [
    "# QFT Circuit Benchmark"
   ]
  },
  {
   "cell_type": "code",
   "metadata": {},
   "source": [
    "from benchmarks.circuits import qft_circuit\n",
    "from benchmarks.backends import (\n",
    "    StatevectorAdapter, StimAdapter, MPSAdapter,\n",
    "    DecisionDiagramAdapter, AerStatevectorAdapter,\n",
    "    AerMPSAdapter, MQTDDAdapter,\n",
    ")\n",
    "from benchmarks.runner import BenchmarkRunner\n",
    "from quasar import SimulationEngine\n",
    "import pandas as pd\n",
    "import seaborn as sns\n",
    "import matplotlib.pyplot as plt\n",
    "\n",
    "qubit_counts = range(2, 13, 2)\n",
    "backends = [StatevectorAdapter(), StimAdapter(), MPSAdapter(), DecisionDiagramAdapter()]\n",
    "for cls in [AerStatevectorAdapter, AerMPSAdapter, MQTDDAdapter]:\n",
    "    try:\n",
    "        backends.append(cls())\n",
    "    except Exception:\n",
    "        pass\n",
    "runner = BenchmarkRunner()\n",
    "for n in qubit_counts:\n",
    "    circ = qft_circuit(n)\n",
    "    for b in backends:\n",
    "        rec = runner.run(circ, b)\n",
    "        rec['qubits'] = n\n",
    "    rec = runner.run_quasar(circ, SimulationEngine())\n",
    "    rec['qubits'] = n\n",
    "df = pd.DataFrame(runner.results)\n",
    "sns.lineplot(data=df, x='qubits', y='time', hue='framework')\n",
    "plt.yscale('log')\n",
    "plt.show()\n"
   ]
  }
 ],
 "metadata": {
  "kernelspec": {
   "display_name": "Python 3",
   "language": "python",
   "name": "python3"
  },
  "language_info": {
   "name": "python"
  }
 },
 "nbformat": 4,
 "nbformat_minor": 5
}
