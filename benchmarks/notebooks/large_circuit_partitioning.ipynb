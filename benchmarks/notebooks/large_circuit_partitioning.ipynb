{
 "cells": [
  {
   "cell_type": "markdown",
   "id": "df28caf8",
   "metadata": {},
   "source": [
    "# Large Circuit Partitioning Benchmark\n",
    "This notebook builds composite circuits that combine structured subroutines to exercise QuASAr's partitioning capabilities:\n",
    "\n",
    "* **Mixed backend subsystems** via `mixed_backend_subsystems`, combining a Clifford GHZ prefix, an MPS-friendly QAOA mid-block, and a dense random suffix that forces conversions between tableau, MPS, and statevector simulations.\n",
    "* **Stim-to-DD conversion** via `stim_to_dd_circuit`, preparing multiple stabiliser subsystems before a global non-Clifford layer triggers decision-diagram conversion.\n",
    "\n",
    "We inspect the resulting partitions, conversion layers, and execution metrics produced by QuASAr."
   ]
  },
  {
   "cell_type": "code",
   "execution_count": null,
   "id": "ebf055f3",
   "metadata": {
    "execution": {
     "iopub.execute_input": "2025-09-16T13:12:18.938623Z",
     "iopub.status.busy": "2025-09-16T13:12:18.938424Z",
     "iopub.status.idle": "2025-09-16T13:12:18.943501Z",
     "shell.execute_reply": "2025-09-16T13:12:18.942751Z"
    }
   },
   "outputs": [],
   "source": [
    "import os\n",
    "import sys\n",
    "from pathlib import Path\n",
    "\n",
    "os.environ['QUASAR_QUICK_MAX_QUBITS'] = '16'\n",
    "os.environ['QUASAR_QUICK_MAX_GATES'] = '200'\n",
    "os.environ['QUASAR_QUICK_MAX_DEPTH'] = '20'\n",
    "\n",
    "ROOT = Path().resolve().parent.parent\n",
    "if str(ROOT) not in sys.path:\n",
    "    sys.path.insert(0, str(ROOT))\n"
   ]
  },
  {
   "cell_type": "code",
   "execution_count": null,
   "id": "dbdc5bb8",
   "metadata": {
    "execution": {
     "iopub.execute_input": "2025-09-16T13:12:18.945644Z",
     "iopub.status.busy": "2025-09-16T13:12:18.945446Z",
     "iopub.status.idle": "2025-09-16T13:12:19.775385Z",
     "shell.execute_reply": "2025-09-16T13:12:19.774522Z"
    }
   },
   "outputs": [],
   "source": [
    "from benchmarks.partition_circuits import mixed_backend_subsystems, stim_to_dd_circuit\n",
    "from quasar.analyzer import CircuitAnalyzer\n",
    "from quasar.simulation_engine import SimulationEngine\n",
    "\n",
    "mixed = mixed_backend_subsystems(ghz_width=5, qaoa_width=5, qaoa_layers=2, random_width=4, seed=13)\n",
    "stim_conversion = stim_to_dd_circuit(num_groups=3, group_size=3, entangling_layer=True)\n",
    "\n",
    "CASES = [\n",
    "    (\"Mixed Backend Subsystems\", mixed),\n",
    "    (\"Stim-to-DD Conversion\", stim_conversion),\n",
    "]\n"
   ]
  },
  {
   "cell_type": "code",
   "execution_count": null,
   "id": "fb7e87db",
   "metadata": {
    "execution": {
     "iopub.execute_input": "2025-09-16T13:12:19.779826Z",
     "iopub.status.busy": "2025-09-16T13:12:19.779361Z",
     "iopub.status.idle": "2025-09-16T13:12:22.716428Z",
     "shell.execute_reply": "2025-09-16T13:12:22.715797Z"
    }
   },
   "outputs": [],
   "source": [
    "def describe_partitions(name, partitions):\n",
    "    if not partitions:\n",
    "        print(f\"[{name}] No partitions identified.\")\n",
    "        return\n",
    "    for idx, part in enumerate(partitions, start=1):\n",
    "        backend_name = getattr(part.backend, 'name', str(part.backend))\n",
    "        history_len = len(part.history)\n",
    "        subsystem_desc = _format_subsystems(part.subsystems)\n",
    "        print(\n",
    "            f\"[{name}] Partition {idx}: backend={backend_name}, copies={part.multiplicity}, \"\n",
    "            f\"subsystems=[{subsystem_desc}], gates={history_len}\"\n",
    "        )"
   ]
  },
  {
   "cell_type": "code",
   "execution_count": null,
   "id": "d2efbc4e",
   "metadata": {
    "execution": {
     "iopub.execute_input": "2025-09-16T13:12:22.718442Z",
     "iopub.status.busy": "2025-09-16T13:12:22.718238Z",
     "iopub.status.idle": "2025-09-16T13:12:23.276290Z",
     "shell.execute_reply": "2025-09-16T13:12:23.275595Z"
    }
   },
   "outputs": [],
   "source": [
    "from itertools import count\n",
    "\n",
    "def simulate_prepared(circuit, plan, analysis, name):\n",
    "    total_steps = len(getattr(plan, 'explicit_steps', plan.steps))\n",
    "    step_counter = count(1)\n",
    "\n",
    "    def monitor(step, observed, estimated):\n",
    "        idx = next(step_counter)\n",
    "        backend_name = getattr(step.backend, 'name', str(step.backend))\n",
    "        gate_count = step.end - step.start\n",
    "        est_time = getattr(estimated, 'time', 0.0)\n",
    "        obs_time = getattr(observed, 'time', 0.0)\n",
    "        print(\n",
    "            f\"[{name}] Step {idx}/{total_steps} on {backend_name}: {gate_count} gate(s), est. {est_time:.2f}s, observed {obs_time:.2f}s.\"\n",
    "        )\n",
    "\n",
    "    print(f\"[{name}] Executing prepared plan with {total_steps} step(s)...\")\n",
    "    conversions = list(getattr(plan, 'explicit_conversions', ()))\n",
    "    if conversions:\n",
    "        print(f\"[{name}] Planned conversions:\")\n",
    "        describe_conversions(name, conversions)\n",
    "    ssd, metrics = engine.scheduler.run(\n",
    "        circuit,\n",
    "        plan,\n",
    "        analysis=analysis,\n",
    "        instrument=True,\n",
    "        monitor=monitor,\n",
    "    )\n",
    "    runtime = metrics.cost.time\n",
    "    peak_memory = (metrics.cost.memory / (1024 ** 3)) if metrics.cost.memory else 0.0\n",
    "    print(\n",
    "        f\"[{name}] Simulation complete in {runtime:.2f}s with peak memory {peak_memory:.2f} GiB and {metrics.backend_switches} backend switch(es).\"\n",
    "    )\n",
    "    print(f\"[{name}] Final SSD partitions: {len(ssd.partitions)}\")\n",
    "    return ssd, metrics\n",
    "\n",
    "simulation_outputs = {}\n",
    "\n",
    "for label, circuit in CASES:\n",
    "    simulation_outputs[label] = simulate_prepared(circuit, plans[label], analyses[label], label)\n"
   ]
  }
 ],
 "metadata": {
  "kernelspec": {
   "display_name": "Python 3",
   "language": "python",
   "name": "python3"
  },
  "language_info": {
   "codemirror_mode": {
    "name": "ipython",
    "version": 3
   },
   "file_extension": ".py",
   "mimetype": "text/x-python",
   "name": "python",
   "nbconvert_exporter": "python",
   "pygments_lexer": "ipython3",
   "version": "3.12.10"
  }
 },
 "nbformat": 4,
 "nbformat_minor": 5
}
