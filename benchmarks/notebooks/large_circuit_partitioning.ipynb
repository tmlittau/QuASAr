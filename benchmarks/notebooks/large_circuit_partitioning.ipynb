{
 "cells": [
  {
   "cell_type": "markdown",
   "metadata": {},
   "source": [
    "# Large Circuit Partitioning Benchmark\n",
    "This notebook builds composite circuits to exercise QuASAr's partitioning capabilities.\n"
   ]
  },
  {
   "cell_type": "code",
   "execution_count": null,
   "metadata": {},
   "outputs": [],
   "source": [
    "import os\n",
    "os.environ['QUASAR_QUICK_MAX_QUBITS'] = '16'\n",
    "os.environ['QUASAR_QUICK_MAX_GATES'] = '200'\n",
    "os.environ['QUASAR_QUICK_MAX_DEPTH'] = '20'\n"
   ]
  },
  {
   "cell_type": "code",
   "execution_count": null,
   "metadata": {},
   "outputs": [],
   "source": [
    "from benchmarks.extensive_circuits import dual_ghz_qft_circuit, adder_ghz_qaoa_circuit\n",
    "from quasar.analyzer import CircuitAnalyzer\n",
    "from quasar.simulation_engine import SimulationEngine\n",
    "\n",
    "ghz_qft = dual_ghz_qft_circuit(width=64)\n",
    "hybrid = adder_ghz_qaoa_circuit(bit_width=32, qaoa_layers=3)\n"
   ]
  },
  {
   "cell_type": "code",
   "execution_count": null,
   "metadata": {},
   "outputs": [],
   "source": [
    "import time\n",
    "\n",
    "engine = SimulationEngine()\n",
    "\n",
    "def _format_subsystems(subsystems):\n",
    "    if not subsystems:\n",
    "        return '-'\n",
    "    return ', '.join('(' + ', '.join(str(q) for q in group) + ')' for group in subsystems)\n",
    "\n",
    "def describe_partitions(name, partitions):\n",
    "    if not partitions:\n",
    "        print(f\"[{name}] No partitions identified.\")\n",
    "        return\n",
    "    for idx, part in enumerate(partitions, start=1):\n",
    "        backend_name = getattr(part.backend, 'name', str(part.backend))\n",
    "        history_len = len(part.history)\n",
    "        subsystem_desc = _format_subsystems(part.subsystems)\n",
    "        print(\n",
    "            f\"[{name}] Partition {idx}: backend={backend_name}, subsystems=[{subsystem_desc}], gates={history_len}\"\n",
    "        )\n",
    "\n",
    "def describe_conversions(name, conversions):\n",
    "    if not conversions:\n",
    "        print(f\"[{name}] No conversion layers.\")\n",
    "        return\n",
    "    for layer in conversions:\n",
    "        src = getattr(layer.source, 'name', str(layer.source))\n",
    "        tgt = getattr(layer.target, 'name', str(layer.target))\n",
    "        print(\n",
    "            f\"[{name}] Conversion {layer.primitive}: boundary={layer.boundary}, {src}\u2192{tgt}, rank={layer.rank}, frontier={layer.frontier}\"\n",
    "        )\n",
    "\n",
    "def prepare_circuit(circuit, name):\n",
    "    print(f\"[{name}] Starting analysis...\")\n",
    "    start = time.perf_counter()\n",
    "    analyzer = CircuitAnalyzer(circuit, estimator=engine.planner.estimator)\n",
    "    analysis = analyzer.analyze()\n",
    "    print(f\"[{name}] Analysis finished in {time.perf_counter() - start:.2f}s.\")\n",
    "    print(f\"[{name}] Preparing execution plan...\")\n",
    "    start = time.perf_counter()\n",
    "    plan = engine.scheduler.prepare_run(circuit, analysis=analysis)\n",
    "    duration = time.perf_counter() - start\n",
    "    total_steps = len(getattr(plan, 'explicit_steps', plan.steps))\n",
    "    print(f\"[{name}] Plan prepared in {duration:.2f}s with {total_steps} step(s).\")\n",
    "    describe_partitions(name, list(circuit.ssd.partitions))\n",
    "    describe_conversions(name, list(circuit.ssd.conversions))\n",
    "    return analysis, plan\n",
    "\n",
    "ghz_qft_analysis, ghz_qft_plan = prepare_circuit(ghz_qft, 'GHZ-QFT')\n",
    "hybrid_analysis, hybrid_plan = prepare_circuit(hybrid, 'Adder-GHZ-QAOA')\n"
   ]
  },
  {
   "cell_type": "code",
   "execution_count": null,
   "metadata": {},
   "outputs": [],
   "source": [
    "from itertools import count\n",
    "\n",
    "def simulate_prepared(circuit, plan, analysis, name):\n",
    "    total_steps = len(getattr(plan, 'explicit_steps', plan.steps))\n",
    "    step_counter = count(1)\n",
    "\n",
    "    def monitor(step, observed, estimated):\n",
    "        idx = next(step_counter)\n",
    "        backend_name = getattr(step.backend, 'name', str(step.backend))\n",
    "        gate_count = step.end - step.start\n",
    "        est_time = getattr(estimated, 'time', 0.0)\n",
    "        obs_time = getattr(observed, 'time', 0.0)\n",
    "        print(\n",
    "            f\"[{name}] Step {idx}/{total_steps} on {backend_name}: {gate_count} gate(s), est. {est_time:.2f}s, observed {obs_time:.2f}s.\"\n",
    "        )\n",
    "\n",
    "    print(f\"[{name}] Executing prepared plan with {total_steps} step(s)...\")\n",
    "    conversions = list(getattr(plan, 'explicit_conversions', ()))\n",
    "    if conversions:\n",
    "        print(f\"[{name}] Planned conversions:\")\n",
    "        describe_conversions(name, conversions)\n",
    "    ssd, metrics = engine.scheduler.run(\n",
    "        circuit,\n",
    "        plan,\n",
    "        analysis=analysis,\n",
    "        instrument=True,\n",
    "        monitor=monitor,\n",
    "    )\n",
    "    runtime = metrics.cost.time\n",
    "    peak_memory = (metrics.cost.memory / (1024 ** 3)) if metrics.cost.memory else 0.0\n",
    "    print(\n",
    "        f\"[{name}] Simulation complete in {runtime:.2f}s with peak memory {peak_memory:.2f} GiB and {metrics.backend_switches} backend switch(es).\"\n",
    "    )\n",
    "    print(f\"[{name}] Final SSD partitions: {len(ssd.partitions)}\")\n",
    "    return ssd, metrics\n",
    "\n",
    "ghz_qft_ssd, ghz_qft_metrics = simulate_prepared(ghz_qft, ghz_qft_plan, ghz_qft_analysis, 'GHZ-QFT')\n",
    "hybrid_ssd, hybrid_metrics = simulate_prepared(hybrid, hybrid_plan, hybrid_analysis, 'Adder-GHZ-QAOA')\n"
   ]
  }
 ],
 "metadata": {
  "kernelspec": {
   "display_name": "Python 3",
   "language": "python",
   "name": "python3"
  },
  "language_info": {
   "codemirror_mode": {
    "name": "ipython",
    "version": 3
   },
   "file_extension": ".py",
   "mimetype": "text/x-python",
   "name": "python",
   "nbconvert_exporter": "python",
   "pygments_lexer": "ipython3",
   "version": "3.10"
  }
 },
 "nbformat": 4,
 "nbformat_minor": 5
}
