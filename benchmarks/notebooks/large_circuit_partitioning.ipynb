{
 "cells": [
  {
   "cell_type": "markdown",
   "metadata": {},
   "source": [
    "# Large Circuit Partitioning Benchmark\n",
    "This notebook builds composite circuits to exercise QuASAr's partitioning capabilities.\n"
   ]
  },
  {
   "cell_type": "code",
   "execution_count": null,
   "metadata": {},
   "outputs": [],
   "source": [
    "import os\n",
    "os.environ['QUASAR_QUICK_MAX_QUBITS'] = '16'\n",
    "os.environ['QUASAR_QUICK_MAX_GATES'] = '200'\n",
    "os.environ['QUASAR_QUICK_MAX_DEPTH'] = '20'\n"
   ]
  },
  {
   "cell_type": "code",
   "execution_count": null,
   "metadata": {},
   "outputs": [],
   "source": [
    "from benchmarks.extensive_circuits import dual_ghz_qft_circuit, adder_ghz_qaoa_circuit\n",
    "from quasar.simulation_engine import SimulationEngine\n",
    "\n",
    "ghz_qft = dual_ghz_qft_circuit(width=64)\n",
    "hybrid = adder_ghz_qaoa_circuit(bit_width=32, qaoa_layers=3)\n"
   ]
  },
  {
   "cell_type": "code",
   "execution_count": null,
   "metadata": {},
   "outputs": [],
   "source": [
    "engine = SimulationEngine()\n",
    "res1 = engine.simulate(ghz_qft)\n",
    "res2 = engine.simulate(hybrid)\n",
    "print('GHZ-QFT partitions:', len(res1.plan.partitions))\n",
    "print('Adder-GHZ-QAOA partitions:', len(res2.plan.partitions))\n"
   ]
  }
 ],
 "metadata": {
  "kernelspec": {
   "display_name": "Python 3",
   "language": "python",
   "name": "python3"
  },
  "language_info": {
   "codemirror_mode": {
    "name": "ipython",
    "version": 3
   },
   "file_extension": ".py",
   "mimetype": "text/x-python",
   "name": "python",
   "nbconvert_exporter": "python",
   "pygments_lexer": "ipython3",
   "version": "3.10"
  }
 },
 "nbformat": 4,
 "nbformat_minor": 5
}
