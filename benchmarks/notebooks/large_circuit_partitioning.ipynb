{
 "cells": [
  {
   "cell_type": "markdown",
   "id": "df28caf8",
   "metadata": {},
   "source": [
    "# Large Circuit Partitioning Benchmark\n",
    "This notebook builds three composite circuits that combine structured subroutines to exercise QuASAr's partitioning capabilities:\n",
    "\n",
    "* **Surface-code QAOA hybrid** via `surface_code_qaoa_circuit`, interleaving low-degree QAOA layers with surface-code stabiliser rounds.\n",
    "* **GHZ–Grover fusion** via `ghz_grover_fusion_circuit`, preparing disjoint GHZ and Grover prefixes before entangling them.\n",
    "* **QAOA with a Toffoli gadget** via `qaoa_toffoli_gadget_circuit`, inserting a non-Clifford three-qubit gate between MPS-friendly layers.\n",
    "* **Mixed backend subsystems** via `mixed_backend_subsystems`, combining a Clifford GHZ prefix, an MPS-friendly QAOA mid-block, and a dense random suffix that forces conversions between tableau, MPS, and statevector simulations.\n",
    "\n",
    "We inspect the resulting partitions, conversion layers, and execution metrics produced by QuASAr."
   ]
  },
  {
   "cell_type": "code",
   "execution_count": 1,
   "id": "ebf055f3",
   "metadata": {
    "execution": {
     "iopub.execute_input": "2025-09-16T13:12:18.938623Z",
     "iopub.status.busy": "2025-09-16T13:12:18.938424Z",
     "iopub.status.idle": "2025-09-16T13:12:18.943501Z",
     "shell.execute_reply": "2025-09-16T13:12:18.942751Z"
    }
   },
   "outputs": [],
   "source": [
    "import os\n",
    "import sys\n",
    "from pathlib import Path\n",
    "\n",
    "os.environ['QUASAR_QUICK_MAX_QUBITS'] = '16'\n",
    "os.environ['QUASAR_QUICK_MAX_GATES'] = '200'\n",
    "os.environ['QUASAR_QUICK_MAX_DEPTH'] = '20'\n",
    "\n",
    "ROOT = Path().resolve().parent.parent\n",
    "if str(ROOT) not in sys.path:\n",
    "    sys.path.insert(0, str(ROOT))\n"
   ]
  },
  {
   "cell_type": "code",
   "execution_count": 2,
   "id": "dbdc5bb8",
   "metadata": {
    "execution": {
     "iopub.execute_input": "2025-09-16T13:12:18.945644Z",
     "iopub.status.busy": "2025-09-16T13:12:18.945446Z",
     "iopub.status.idle": "2025-09-16T13:12:19.775385Z",
     "shell.execute_reply": "2025-09-16T13:12:19.774522Z"
    }
   },
   "outputs": [],
   "source": [
    "from benchmarks.extensive_circuits import (\n",
    "    surface_code_qaoa_circuit,\n",
    "    ghz_grover_fusion_circuit,\n",
    "    qaoa_toffoli_gadget_circuit,\n",
    ")\n",
    "from benchmarks.partition_circuits import mixed_backend_subsystems\n",
    "from quasar.analyzer import CircuitAnalyzer\n",
    "from quasar.simulation_engine import SimulationEngine\n",
    "\n",
    "surface_qaoa = surface_code_qaoa_circuit(bit_width=8, distance=3, rounds=2)\n",
    "fusion = ghz_grover_fusion_circuit(ghz_qubits=10, grover_qubits=3, iterations=2)\n",
    "toffoli_gadget = qaoa_toffoli_gadget_circuit(width=18, rounds_before=2, rounds_after=2)\n",
    "\n",
    "mixed = mixed_backend_subsystems(ghz_width=5, qaoa_width=5, qaoa_layers=2, random_width=4, seed=13)\n"
   ]
  },
  {
   "cell_type": "code",
   "execution_count": 3,
   "id": "fb7e87db",
   "metadata": {
    "execution": {
     "iopub.execute_input": "2025-09-16T13:12:19.779826Z",
     "iopub.status.busy": "2025-09-16T13:12:19.779361Z",
     "iopub.status.idle": "2025-09-16T13:12:22.716428Z",
     "shell.execute_reply": "2025-09-16T13:12:22.715797Z"
    }
   },
   "outputs": [
    {
     "name": "stdout",
     "output_type": "stream",
     "text": [
      "[Surface-Code QAOA] Starting analysis...\n",
      "[Surface-Code QAOA] Analysis finished in 0.00s.\n",
      "[Surface-Code QAOA] Preparing execution plan...\n"
     ]
    },
    {
     "name": "stdout",
     "output_type": "stream",
     "text": [
      "[Surface-Code QAOA] Plan prepared in 1.87s with 1 step(s).\n",
      "[Surface-Code QAOA] Partition 1: backend=STATEVECTOR, subsystems=[(0, 1, 2, 3, 4, 5, 6, 7, 8, 9, 10, 11, 12, 13, 14, 15, 16, 17, 18, 19, 20)], gates=128\n",
      "[Surface-Code QAOA] No conversion layers.\n",
      "[GHZ–Grover Fusion] Starting analysis...\n",
      "[GHZ–Grover Fusion] Analysis finished in 0.00s.\n",
      "[GHZ–Grover Fusion] Preparing execution plan...\n"
     ]
    },
    {
     "name": "stdout",
     "output_type": "stream",
     "text": [
      "[GHZ–Grover Fusion] Plan prepared in 1.03s with 1 step(s).\n",
      "[GHZ–Grover Fusion] Partition 1: backend=MPS, subsystems=[(0, 1, 2, 3, 4, 5, 6, 7, 8, 9, 10, 11, 12)], gates=106\n",
      "[GHZ–Grover Fusion] No conversion layers.\n",
      "[QAOA Toffoli Gadget] Starting analysis...\n",
      "[QAOA Toffoli Gadget] Analysis finished in 0.01s.\n",
      "[QAOA Toffoli Gadget] Preparing execution plan...\n",
      "[QAOA Toffoli Gadget] Plan prepared in 0.01s with 1 step(s).\n",
      "[QAOA Toffoli Gadget] Partition 1: backend=STATEVECTOR, subsystems=[(0, 1, 2, 3, 4, 5, 6, 7, 8, 9, 10, 11, 12, 13, 14, 15, 16, 17)], gates=177\n",
      "[QAOA Toffoli Gadget] No conversion layers.\n"
     ]
    }
   ],
   "source": [
    "import time\n",
    "\n",
    "engine = SimulationEngine()\n",
    "\n",
    "def _format_subsystems(subsystems):\n",
    "    if not subsystems:\n",
    "        return '-'\n",
    "    return ', '.join('(' + ', '.join(str(q) for q in group) + ')' for group in subsystems)\n",
    "\n",
    "def describe_partitions(name, partitions):\n",
    "    if not partitions:\n",
    "        print(f\"[{name}] No partitions identified.\")\n",
    "        return\n",
    "    for idx, part in enumerate(partitions, start=1):\n",
    "        backend_name = getattr(part.backend, 'name', str(part.backend))\n",
    "        history_len = len(part.history)\n",
    "        subsystem_desc = _format_subsystems(part.subsystems)\n",
    "        print(\n",
    "            f\"[{name}] Partition {idx}: backend={backend_name}, subsystems=[{subsystem_desc}], gates={history_len}\"\n",
    "        )\n",
    "\n",
    "def describe_conversions(name, conversions):\n",
    "    if not conversions:\n",
    "        print(f\"[{name}] No conversion layers.\")\n",
    "        return\n",
    "    for layer in conversions:\n",
    "        src = getattr(layer.source, 'name', str(layer.source))\n",
    "        tgt = getattr(layer.target, 'name', str(layer.target))\n",
    "        print(\n",
    "            f\"[{name}] Conversion {layer.primitive}: boundary={layer.boundary}, {src}→{tgt}, rank={layer.rank}, frontier={layer.frontier}\"\n",
    "        )\n",
    "\n",
    "def prepare_circuit(circuit, name):\n",
    "    print(f\"[{name}] Starting analysis...\")\n",
    "    start = time.perf_counter()\n",
    "    analyzer = CircuitAnalyzer(circuit, estimator=engine.planner.estimator)\n",
    "    analysis = analyzer.analyze()\n",
    "    print(f\"[{name}] Analysis finished in {time.perf_counter() - start:.2f}s.\")\n",
    "    print(f\"[{name}] Preparing execution plan...\")\n",
    "    start = time.perf_counter()\n",
    "    plan = engine.scheduler.prepare_run(circuit, analysis=analysis)\n",
    "    duration = time.perf_counter() - start\n",
    "    total_steps = len(getattr(plan, 'explicit_steps', plan.steps))\n",
    "    print(f\"[{name}] Plan prepared in {duration:.2f}s with {total_steps} step(s).\")\n",
    "    describe_partitions(name, list(circuit.ssd.partitions))\n",
    "    describe_conversions(name, list(circuit.ssd.conversions))\n",
    "    return analysis, plan\n",
    "\n",
    "surface_analysis, surface_plan = prepare_circuit(surface_qaoa, 'Surface-Code QAOA')\n",
    "fusion_analysis, fusion_plan = prepare_circuit(fusion, 'GHZ–Grover Fusion')\n",
    "toffoli_analysis, toffoli_plan = prepare_circuit(toffoli_gadget, 'QAOA Toffoli Gadget')\n",
    "\n",
    "mixed_analysis, mixed_plan = prepare_circuit(mixed, 'Mixed Backend Subsystems')"
   ]
  },
  {
   "cell_type": "code",
   "execution_count": 4,
   "id": "d2efbc4e",
   "metadata": {
    "execution": {
     "iopub.execute_input": "2025-09-16T13:12:22.718442Z",
     "iopub.status.busy": "2025-09-16T13:12:22.718238Z",
     "iopub.status.idle": "2025-09-16T13:12:23.276290Z",
     "shell.execute_reply": "2025-09-16T13:12:23.275595Z"
    }
   },
   "outputs": [
    {
     "name": "stdout",
     "output_type": "stream",
     "text": [
      "[Surface-Code QAOA] Executing prepared plan with 1 step(s)...\n",
      "[Surface-Code QAOA] Step 1/1 on STATEVECTOR: 128 gate(s), est. 387.14s, observed 0.02s.\n"
     ]
    },
    {
     "name": "stdout",
     "output_type": "stream",
     "text": [
      "[Surface-Code QAOA] Simulation complete in 0.02s with peak memory 0.03 GiB and 0 backend switch(es).\n",
      "[Surface-Code QAOA] Final SSD partitions: 1\n",
      "[GHZ–Grover Fusion] Executing prepared plan with 1 step(s)...\n",
      "[GHZ–Grover Fusion] Step 1/1 on MPS: 106 gate(s), est. 7798857.65s, observed 0.01s.\n",
      "[GHZ–Grover Fusion] Simulation complete in 0.01s with peak memory 0.00 GiB and 0 backend switch(es).\n",
      "[GHZ–Grover Fusion] Final SSD partitions: 1\n",
      "[QAOA Toffoli Gadget] Executing prepared plan with 1 step(s)...\n",
      "[QAOA Toffoli Gadget] Step 1/1 on STATEVECTOR: 177 gate(s), est. 46399488.01s, observed 0.01s.\n",
      "[QAOA Toffoli Gadget] Simulation complete in 0.01s with peak memory 0.00 GiB and 0 backend switch(es).\n",
      "[QAOA Toffoli Gadget] Final SSD partitions: 1\n"
     ]
    }
   ],
   "source": [
    "from itertools import count\n",
    "\n",
    "def simulate_prepared(circuit, plan, analysis, name):\n",
    "    total_steps = len(getattr(plan, 'explicit_steps', plan.steps))\n",
    "    step_counter = count(1)\n",
    "\n",
    "    def monitor(step, observed, estimated):\n",
    "        idx = next(step_counter)\n",
    "        backend_name = getattr(step.backend, 'name', str(step.backend))\n",
    "        gate_count = step.end - step.start\n",
    "        est_time = getattr(estimated, 'time', 0.0)\n",
    "        obs_time = getattr(observed, 'time', 0.0)\n",
    "        print(\n",
    "            f\"[{name}] Step {idx}/{total_steps} on {backend_name}: {gate_count} gate(s), est. {est_time:.2f}s, observed {obs_time:.2f}s.\"\n",
    "        )\n",
    "\n",
    "    print(f\"[{name}] Executing prepared plan with {total_steps} step(s)...\")\n",
    "    conversions = list(getattr(plan, 'explicit_conversions', ()))\n",
    "    if conversions:\n",
    "        print(f\"[{name}] Planned conversions:\")\n",
    "        describe_conversions(name, conversions)\n",
    "    ssd, metrics = engine.scheduler.run(\n",
    "        circuit,\n",
    "        plan,\n",
    "        analysis=analysis,\n",
    "        instrument=True,\n",
    "        monitor=monitor,\n",
    "    )\n",
    "    runtime = metrics.cost.time\n",
    "    peak_memory = (metrics.cost.memory / (1024 ** 3)) if metrics.cost.memory else 0.0\n",
    "    print(\n",
    "        f\"[{name}] Simulation complete in {runtime:.2f}s with peak memory {peak_memory:.2f} GiB and {metrics.backend_switches} backend switch(es).\"\n",
    "    )\n",
    "    print(f\"[{name}] Final SSD partitions: {len(ssd.partitions)}\")\n",
    "    return ssd, metrics\n",
    "\n",
    "surface_ssd, surface_metrics = simulate_prepared(surface_qaoa, surface_plan, surface_analysis, 'Surface-Code QAOA')\n",
    "fusion_ssd, fusion_metrics = simulate_prepared(fusion, fusion_plan, fusion_analysis, 'GHZ–Grover Fusion')\n",
    "toffoli_ssd, toffoli_metrics = simulate_prepared(toffoli_gadget, toffoli_plan, toffoli_analysis, 'QAOA Toffoli Gadget')\n",
    "\n",
    "mixed_ssd, mixed_metrics = simulate_prepared(mixed, mixed_plan, mixed_analysis, 'Mixed Backend Subsystems')"
   ]
  }
 ],
 "metadata": {
  "kernelspec": {
   "display_name": "Python 3",
   "language": "python",
   "name": "python3"
  },
  "language_info": {
   "codemirror_mode": {
    "name": "ipython",
    "version": 3
   },
   "file_extension": ".py",
   "mimetype": "text/x-python",
   "name": "python",
   "nbconvert_exporter": "python",
   "pygments_lexer": "ipython3",
   "version": "3.12.10"
  }
 },
 "nbformat": 4,
 "nbformat_minor": 5
}
