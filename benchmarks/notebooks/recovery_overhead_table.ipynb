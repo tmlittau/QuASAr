{
 "cells": [
  {
   "cell_type": "markdown",
   "id": "a29adccb",
   "metadata": {},
   "source": [
    "# Recovery overhead table\n",
    "\n",
    "Measure recovery time and planning overhead after circuit perturbations."
   ]
  },
  {
   "cell_type": "code",
   "execution_count": null,
   "id": "5a0e8cda",
   "metadata": {},
   "outputs": [],
   "source": [
    "import time\n",
    "import pandas as pd\n",
    "from quasar.planner import Planner\n",
    "from quasar.circuit import Circuit, Gate\n",
    "from benchmarks.circuits import ghz_circuit, qft_circuit\n",
    "\n",
    "planner = Planner()\n",
    "baseline = ghz_circuit(5)\n",
    "start = time.perf_counter();\n",
    "planner.plan(baseline);\n",
    "baseline_time = time.perf_counter() - start\n",
    "\n",
    "minor = Circuit(list(baseline.gates) + [Gate('H', [0])], use_classical_simplification=False)\n",
    "major = qft_circuit(5)\n",
    "perturbations = {'minor': minor, 'major': major}\n",
    "\n",
    "rows = []\n",
    "for name, pert in perturbations.items():\n",
    "    start = time.perf_counter(); planner.plan(pert); perturb_time = time.perf_counter() - start\n",
    "    start = time.perf_counter(); planner.plan(baseline); recovery_time = time.perf_counter() - start\n",
    "    overhead = (perturb_time + recovery_time) / baseline_time\n",
    "    rows.append({'perturbation': name, 'recovery_time': recovery_time, 'overhead': overhead})\n",
    "table = pd.DataFrame(rows)\n",
    "table\n"
   ]
  }
 ],
 "metadata": {
  "kernelspec": {
   "display_name": "Python 3",
   "language": "python",
   "name": "python3"
  },
  "language_info": {
   "codemirror_mode": {
    "name": "ipython",
    "version": 3
   },
   "file_extension": ".py",
   "mimetype": "text/x-python",
   "name": "python",
   "nbconvert_exporter": "python",
   "pygments_lexer": "ipython3",
   "version": "3.10"
  }
 },
 "nbformat": 4,
 "nbformat_minor": 5
}
