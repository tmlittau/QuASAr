{
 "cells": [
  {
   "cell_type": "markdown",
   "id": "intro",
   "metadata": {},
   "source": [
    "# Re-optimization Timeline\n",
    "This notebook injects perturbations into a simple circuit, records the planner's execution progress, and plots the timeline of re-optimization and recovery."
   ]
  },
  {
   "cell_type": "code",
   "execution_count": null,
   "id": "imports",
   "metadata": {},
   "outputs": [],
   "source": [
    "import time\n",
    "import pandas as pd\n",
    "import matplotlib.pyplot as plt\n",
    "from quasar.planner import Planner\n",
    "from benchmarks.circuits import ghz_circuit, qft_circuit"
   ]
  },
  {
   "cell_type": "code",
   "execution_count": null,
   "id": "timeline",
   "metadata": {},
   "outputs": [],
   "source": [
    "planner = Planner()\n",
    "baseline = ghz_circuit(8)\n",
    "perturbed = qft_circuit(8)\n",
    "events = []\n",
    "start = time.perf_counter()\n",
    "planner.plan(baseline)\n",
    "events.append({'event': 'baseline', 'time': time.perf_counter() - start})\n",
    "planner.plan(perturbed)\n",
    "events.append({'event': 'reoptimized', 'time': time.perf_counter() - start})\n",
    "planner.plan(baseline)\n",
    "events.append({'event': 'recovered', 'time': time.perf_counter() - start})\n",
    "timeline = pd.DataFrame(events)\n",
    "timeline"
   ]
  },
  {
   "cell_type": "code",
   "execution_count": null,
   "id": "plot",
   "metadata": {},
   "outputs": [],
   "source": [
    "fig, ax = plt.subplots()\n",
    "ax.hlines(range(len(timeline)), 0, timeline['time'], color='C0')\n",
    "ax.plot(timeline['time'], range(len(timeline)), 'o')\n",
    "ax.set_yticks(range(len(timeline)))\n",
    "ax.set_yticklabels(timeline['event'])\n",
    "ax.set_xlabel('time (s)')\n",
    "ax.set_title('Re-optimization timeline')\n",
    "plt.show()"
   ]
  }
 ],
 "metadata": {
  "kernelspec": {
   "display_name": "Python 3",
   "language": "python",
   "name": "python3"
  },
  "language_info": {
   "name": "python",
   "version": "3"
  }
 },
 "nbformat": 4,
 "nbformat_minor": 5
}
