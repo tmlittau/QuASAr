{
 "cells": [
  {
   "cell_type": "markdown",
   "id": "68432bc9",
   "metadata": {},
   "source": [
    "# Statevector backend benchmark\n",
    "\n",
    "This notebook runs a small selection of example circuits solely on the `Statevector` simulator. It demonstrates how to use `BenchmarkRunner` for collecting timing and memory metrics. Extend the `circuits_to_run` list or adjust parameters to analyze additional workloads.\n"
   ]
  },
  {
   "cell_type": "code",
   "execution_count": 1,
   "id": "ce56975c",
   "metadata": {
    "execution": {
     "iopub.execute_input": "2025-09-01T10:40:48.639978Z",
     "iopub.status.busy": "2025-09-01T10:40:48.639557Z",
     "iopub.status.idle": "2025-09-01T10:40:49.889655Z",
     "shell.execute_reply": "2025-09-01T10:40:49.888642Z"
    }
   },
   "outputs": [],
   "source": [
    "from benchmarks.backends import StatevectorAdapter\n",
    "from benchmarks.runner import BenchmarkRunner\n",
    "from benchmarks import circuits\n",
    "import pandas as pd"
   ]
  },
  {
   "cell_type": "code",
   "execution_count": 2,
   "id": "3538a1de",
   "metadata": {
    "execution": {
     "iopub.execute_input": "2025-09-01T10:40:49.893336Z",
     "iopub.status.busy": "2025-09-01T10:40:49.892885Z",
     "iopub.status.idle": "2025-09-01T10:40:50.103546Z",
     "shell.execute_reply": "2025-09-01T10:40:50.102356Z"
    }
   },
   "outputs": [
    {
     "data": {
      "text/html": [
       "<div>\n",
       "<style scoped>\n",
       "    .dataframe tbody tr th:only-of-type {\n",
       "        vertical-align: middle;\n",
       "    }\n",
       "\n",
       "    .dataframe tbody tr th {\n",
       "        vertical-align: top;\n",
       "    }\n",
       "\n",
       "    .dataframe thead th {\n",
       "        text-align: right;\n",
       "    }\n",
       "</style>\n",
       "<table border=\"1\" class=\"dataframe\">\n",
       "  <thead>\n",
       "    <tr style=\"text-align: right;\">\n",
       "      <th></th>\n",
       "      <th>circuit</th>\n",
       "      <th>prepare_time_mean</th>\n",
       "      <th>run_time_mean</th>\n",
       "      <th>total_time_mean</th>\n",
       "      <th>prepare_peak_memory_mean</th>\n",
       "      <th>run_peak_memory_mean</th>\n",
       "    </tr>\n",
       "  </thead>\n",
       "  <tbody>\n",
       "    <tr>\n",
       "      <th>0</th>\n",
       "      <td>GHZ</td>\n",
       "      <td>0.000731</td>\n",
       "      <td>0.004107</td>\n",
       "      <td>0.004838</td>\n",
       "      <td>6078.666667</td>\n",
       "      <td>31388.666667</td>\n",
       "    </tr>\n",
       "    <tr>\n",
       "      <th>1</th>\n",
       "      <td>QFT</td>\n",
       "      <td>0.002631</td>\n",
       "      <td>0.005390</td>\n",
       "      <td>0.008021</td>\n",
       "      <td>6572.333333</td>\n",
       "      <td>28025.000000</td>\n",
       "    </tr>\n",
       "    <tr>\n",
       "      <th>2</th>\n",
       "      <td>Grover</td>\n",
       "      <td>0.008965</td>\n",
       "      <td>0.018399</td>\n",
       "      <td>0.027364</td>\n",
       "      <td>17789.666667</td>\n",
       "      <td>35542.000000</td>\n",
       "    </tr>\n",
       "  </tbody>\n",
       "</table>\n",
       "</div>"
      ],
      "text/plain": [
       "  circuit  prepare_time_mean  run_time_mean  total_time_mean  \\\n",
       "0     GHZ           0.000731       0.004107         0.004838   \n",
       "1     QFT           0.002631       0.005390         0.008021   \n",
       "2  Grover           0.008965       0.018399         0.027364   \n",
       "\n",
       "   prepare_peak_memory_mean  run_peak_memory_mean  \n",
       "0               6078.666667          31388.666667  \n",
       "1               6572.333333          28025.000000  \n",
       "2              17789.666667          35542.000000  "
      ]
     },
     "execution_count": 2,
     "metadata": {},
     "output_type": "execute_result"
    }
   ],
   "source": [
    "# Select representative circuits\n",
    "circuits_to_run = [\n",
    "    (\"GHZ\", circuits.ghz_circuit(5)),\n",
    "    (\"QFT\", circuits.qft_circuit(5)),\n",
    "    (\"Grover\", circuits.grover_circuit(5, 1)),\n",
    "]\n",
    "\n",
    "runner = BenchmarkRunner()\n",
    "backend = StatevectorAdapter()\n",
    "for name, circ in circuits_to_run:\n",
    "    res = runner.run_multiple(circ, backend, return_state=False, repetitions=3)\n",
    "    res[\"circuit\"] = name\n",
    "\n",
    "df = runner.dataframe()\n",
    "df[[\"circuit\", \"prepare_time_mean\", \"run_time_mean\", \"total_time_mean\", \"prepare_peak_memory_mean\", \"run_peak_memory_mean\"]]\n"
   ]
  },
  {
   "cell_type": "code",
   "execution_count": 3,
   "id": "3c5852f6",
   "metadata": {
    "execution": {
     "iopub.execute_input": "2025-09-01T10:40:50.106695Z",
     "iopub.status.busy": "2025-09-01T10:40:50.106367Z",
     "iopub.status.idle": "2025-09-01T10:40:51.048954Z",
     "shell.execute_reply": "2025-09-01T10:40:51.047588Z"
    }
   },
   "outputs": [],
   "source": [
    "import pandas as pd\n",
    "from benchmarks.stats_utils import stats_table\n",
    "\n",
    "def add_stats(df, quasar_col='QuASAr', baseline_cols=None, test='ttest', correction='bonferroni'):\n",
    "    \"\"\"Compute statistics comparing QuASAr with baselines.\n",
    "\n",
    "    Parameters\n",
    "    ----------\n",
    "    df : pandas.DataFrame\n",
    "        DataFrame with per-circuit results. One column must correspond to QuASAr,\n",
    "        others to baselines.\n",
    "    quasar_col : str\n",
    "        Name of the column containing QuASAr results.\n",
    "    baseline_cols : list[str] | None\n",
    "        Columns to treat as baselines. Defaults to all columns except quasar_col.\n",
    "    test : str\n",
    "        'ttest' or 'wilcoxon'.\n",
    "    correction : str\n",
    "        'bonferroni' or 'fdr_bh'.\n",
    "\n",
    "    Returns\n",
    "    -------\n",
    "    pd.DataFrame\n",
    "        Table with baseline name, statistic, corrected p-value, and effect size.\n",
    "    \"\"\"\n",
    "    if baseline_cols is None:\n",
    "        baseline_cols = [c for c in df.columns if c != quasar_col]\n",
    "    baselines = {c: df[c] for c in baseline_cols}\n",
    "    return stats_table(df[quasar_col], baselines, test=test, correction=correction)\n",
    "\n",
    "# Example usage after computing results DataFrame named `results_df`:\n",
    "# stats_df = add_stats(results_df)\n",
    "# stats_df\n"
   ]
  },
  {
   "cell_type": "code",
   "execution_count": 4,
   "id": "b06bde6c",
   "metadata": {
    "execution": {
     "iopub.execute_input": "2025-09-01T10:40:51.053556Z",
     "iopub.status.busy": "2025-09-01T10:40:51.053011Z",
     "iopub.status.idle": "2025-09-01T10:40:51.073174Z",
     "shell.execute_reply": "2025-09-01T10:40:51.071526Z"
    }
   },
   "outputs": [
    {
     "name": "stdout",
     "output_type": "stream",
     "text": [
      "{'In': ['', 'from benchmarks.backends import StatevectorAdapter\\nfrom benchmarks.runner import BenchmarkRunner\\nfrom benchmarks import circuits\\nimport pandas as pd', '# Select representative circuits\\ncircuits_to_run = [\\n    (\"GHZ\", circuits.ghz_circuit(5)),\\n    (\"QFT\", circuits.qft_circuit(5)),\\n    (\"Grover\", circuits.grover_circuit(5, 1)),\\n]\\n\\nrunner = BenchmarkRunner()\\nbackend = StatevectorAdapter()\\nfor name, circ in circuits_to_run:\\n    res = runner.run_multiple(circ, backend, return_state=False, repetitions=3)\\n    res[\"circuit\"] = name\\n\\ndf = runner.dataframe()\\ndf[[\"circuit\", \"prepare_time_mean\", \"run_time_mean\", \"total_time_mean\", \"prepare_peak_memory_mean\", \"run_peak_memory_mean\"]]', 'import pandas as pd\\nfrom benchmarks.stats_utils import stats_table\\n\\ndef add_stats(df, quasar_col=\\'QuASAr\\', baseline_cols=None, test=\\'ttest\\', correction=\\'bonferroni\\'):\\n    \"\"\"Compute statistics comparing QuASAr with baselines.\\n\\n    Parameters\\n    ----------\\n    df : pandas.DataFrame\\n        DataFrame with per-circuit results. One column must correspond to QuASAr,\\n        others to baselines.\\n    quasar_col : str\\n        Name of the column containing QuASAr results.\\n    baseline_cols : list[str] | None\\n        Columns to treat as baselines. Defaults to all columns except quasar_col.\\n    test : str\\n        \\'ttest\\' or \\'wilcoxon\\'.\\n    correction : str\\n        \\'bonferroni\\' or \\'fdr_bh\\'.\\n\\n    Returns\\n    -------\\n    pd.DataFrame\\n        Table with baseline name, statistic, corrected p-value, and effect size.\\n    \"\"\"\\n    if baseline_cols is None:\\n        baseline_cols = [c for c in df.columns if c != quasar_col]\\n    baselines = {c: df[c] for c in baseline_cols}\\n    return stats_table(df[quasar_col], baselines, test=test, correction=correction)\\n\\n# Example usage after computing results DataFrame named `results_df`:\\n# stats_df = add_stats(results_df)\\n# stats_df', '# Record parameters and results\\nimport json, pathlib\\ntry:\\n    import ipynbname\\n    nb_name = ipynbname.path().stem\\nexcept Exception:  # pragma: no cover\\n    nb_name = \\'notebook\\'\\n\\n# Collect simple parameters from globals\\n_params = {\\n    k: v for k, v in globals().items()\\n    if not k.startswith(\\'_\\') and isinstance(v, (int, float, str, bool, list, dict, tuple))\\n}\\npathlib.Path(\\'../results\\').mkdir(exist_ok=True)\\ntry:\\n    with open(f\"../results/{nb_name}_params.json\", \\'w\\') as f:\\n        json.dump(_params, f, indent=2)\\nexcept TypeError:\\n    pass\\nif \\'results\\' in globals():\\n    try:\\n        with open(f\"../results/{nb_name}_results.json\", \\'w\\') as f:\\n            json.dump(results, f, indent=2)\\n    except TypeError:\\n        pass\\ntry:\\n    print(json.dumps(_params, indent=2))\\nexcept TypeError:\\n    print(_params)'], 'Out': {2:   circuit  prepare_time_mean  run_time_mean  total_time_mean  \\\n",
      "0     GHZ           0.000731       0.004107         0.004838   \n",
      "1     QFT           0.002631       0.005390         0.008021   \n",
      "2  Grover           0.008965       0.018399         0.027364   \n",
      "\n",
      "   prepare_peak_memory_mean  run_peak_memory_mean  \n",
      "0               6078.666667          31388.666667  \n",
      "1               6572.333333          28025.000000  \n",
      "2              17789.666667          35542.000000  }, 'circuits_to_run': [('GHZ', <quasar.circuit.Circuit object at 0x7fa6787acfe0>), ('QFT', <quasar.circuit.Circuit object at 0x7fa646838e30>), ('Grover', <quasar.circuit.Circuit object at 0x7fa6815d1880>)], 'name': 'Grover', 'res': {'framework': 'statevector', 'repetitions': 3, 'prepare_time_mean': 0.008965243666655928, 'prepare_time_std': 5.726562276467994e-05, 'run_time_mean': 0.01839871366701118, 'run_time_std': 0.007357944113781177, 'total_time_mean': 0.027363957333667106, 'total_time_std': 0.00738356499479113, 'prepare_peak_memory_mean': 17789.666666666668, 'prepare_peak_memory_std': 324.5821245163627, 'run_peak_memory_mean': 35542.0, 'run_peak_memory_std': 1184.21816683695, 'circuit': 'Grover'}, 'nb_name': 'notebook'}\n"
     ]
    }
   ],
   "source": [
    "\n",
    "# Record parameters and results\n",
    "import json, pathlib\n",
    "try:\n",
    "    import ipynbname\n",
    "    nb_name = ipynbname.path().stem\n",
    "except Exception:  # pragma: no cover\n",
    "    nb_name = 'notebook'\n",
    "\n",
    "# Collect simple parameters from globals\n",
    "_params = {\n",
    "    k: v for k, v in globals().items()\n",
    "    if not k.startswith('_') and isinstance(v, (int, float, str, bool, list, dict, tuple))\n",
    "}\n",
    "pathlib.Path('../results').mkdir(exist_ok=True)\n",
    "try:\n",
    "    with open(f\"../results/{nb_name}_params.json\", 'w') as f:\n",
    "        json.dump(_params, f, indent=2)\n",
    "except TypeError:\n",
    "    pass\n",
    "if 'results' in globals():\n",
    "    try:\n",
    "        with open(f\"../results/{nb_name}_results.json\", 'w') as f:\n",
    "            json.dump(results, f, indent=2)\n",
    "    except TypeError:\n",
    "        pass\n",
    "try:\n",
    "    print(json.dumps(_params, indent=2))\n",
    "except TypeError:\n",
    "    print(_params)\n"
   ]
  }
 ],
 "metadata": {
  "language_info": {
   "codemirror_mode": {
    "name": "ipython",
    "version": 3
   },
   "file_extension": ".py",
   "mimetype": "text/x-python",
   "name": "python",
   "nbconvert_exporter": "python",
   "pygments_lexer": "ipython3",
   "version": "3.12.10"
  }
 },
 "nbformat": 4,
 "nbformat_minor": 5
}
