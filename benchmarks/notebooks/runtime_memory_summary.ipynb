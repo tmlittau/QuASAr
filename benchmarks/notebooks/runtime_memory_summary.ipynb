{
 "cells": [
  {
   "cell_type": "markdown",
   "id": "e561f517",
   "metadata": {},
   "source": [
    "# Runtime and peak memory summary\n",
    "\n",
    "Measure runtime and peak memory for small circuits across QuASAr and baseline simulators."
   ]
  },
  {
   "cell_type": "code",
   "execution_count": null,
   "id": "edae6c00",
   "metadata": {},
   "outputs": [],
   "source": [
    "import time, tracemalloc\n",
    "import pandas as pd\n",
    "from benchmarks.circuits import ghz_circuit, clifford_ec_circuit\n",
    "from quasar.circuit import Circuit\n",
    "from quasar.simulation_engine import SimulationEngine\n",
    "from quasar.backends import AerStatevectorBackend, StimBackend\n",
    "from quasar.analyzer import CircuitAnalyzer\n",
    "\n",
    "\n",
    "def run_quasar(circuit: Circuit) -> tuple[float, float]:\n",
    "    engine = SimulationEngine()\n",
    "    analyzer = CircuitAnalyzer(circuit, estimator=engine.planner.estimator)\n",
    "    analysis = analyzer.analyze()\n",
    "    plan = engine.planner.plan(circuit, analysis=analysis)\n",
    "    _, metrics = engine.scheduler.run(circuit, plan, analysis=analysis, instrument=True)\n",
    "    return metrics.cost.time, metrics.cost.memory\n",
    "\n",
    "\n",
    "def run_statevector(circuit: Circuit) -> tuple[float, float]:\n",
    "    backend = AerStatevectorBackend()\n",
    "    backend.load(circuit.num_qubits)\n",
    "    for gate in circuit.gates:\n",
    "        backend.apply_gate(gate.gate, gate.qubits, gate.params)\n",
    "    tracemalloc.start(); tracemalloc.reset_peak()\n",
    "    start = time.perf_counter()\n",
    "    backend.statevector()\n",
    "    runtime = time.perf_counter() - start\n",
    "    _, peak = tracemalloc.get_traced_memory(); tracemalloc.stop()\n",
    "    return runtime, peak\n",
    "\n",
    "\n",
    "def run_stim(circuit: Circuit) -> tuple[float, float]:\n",
    "    backend = StimBackend()\n",
    "    backend.load(circuit.num_qubits)\n",
    "    for gate in circuit.gates:\n",
    "        backend.apply_gate(gate.gate, gate.qubits, gate.params)\n",
    "    tracemalloc.start(); tracemalloc.reset_peak()\n",
    "    start = time.perf_counter()\n",
    "    backend.extract_ssd()\n",
    "    runtime = time.perf_counter() - start\n",
    "    _, peak = tracemalloc.get_traced_memory(); tracemalloc.stop()\n",
    "    return runtime, peak\n",
    "\n",
    "\n",
    "circuits = {\n",
    "    'ghz3': ghz_circuit(3, use_classical_simplification=False),\n",
    "    'clifford_ec': clifford_ec_circuit(),\n",
    "}\n",
    "\n",
    "rows = []\n",
    "for name, circuit in circuits.items():\n",
    "    for sim_name, runner in [('QuASAr', run_quasar), ('Statevector', run_statevector), ('Stim', run_stim)]:\n",
    "        runtime, peak = runner(circuit)\n",
    "        rows.append({'circuit': name, 'simulator': sim_name, 'runtime_s': runtime, 'peak_memory_bytes': peak})\n",
    "\n",
    "df = pd.DataFrame(rows)\n",
    "df"
   ]
  }
 ],
 "metadata": {
  "kernelspec": {
   "display_name": "Python 3",
   "language": "python",
   "name": "python3"
  },
  "language_info": {
   "name": "python",
   "version": "3.12"
  }
 },
 "nbformat": 4,
 "nbformat_minor": 5
}
